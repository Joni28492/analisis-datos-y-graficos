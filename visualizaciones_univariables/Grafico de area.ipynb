{
 "cells": [
  {
   "cell_type": "markdown",
   "id": "e41473d0",
   "metadata": {},
   "source": [
    "# Grafico de Areas\n",
    "## apiladas y agrupadas\n",
    "\n",
    "nos permiten ver la diferencia entre magnitudes, y la tendencia\n",
    "debe empezar en el 0\n",
    "\n",
    "no es muy estetico, pero tiene funcionalidad"
   ]
  },
  {
   "cell_type": "code",
   "execution_count": null,
   "id": "68a25bcd",
   "metadata": {},
   "outputs": [],
   "source": []
  }
 ],
 "metadata": {
  "kernelspec": {
   "display_name": "Python 3 (ipykernel)",
   "language": "python",
   "name": "python3"
  },
  "language_info": {
   "codemirror_mode": {
    "name": "ipython",
    "version": 3
   },
   "file_extension": ".py",
   "mimetype": "text/x-python",
   "name": "python",
   "nbconvert_exporter": "python",
   "pygments_lexer": "ipython3",
   "version": "3.11.4"
  }
 },
 "nbformat": 4,
 "nbformat_minor": 5
}
