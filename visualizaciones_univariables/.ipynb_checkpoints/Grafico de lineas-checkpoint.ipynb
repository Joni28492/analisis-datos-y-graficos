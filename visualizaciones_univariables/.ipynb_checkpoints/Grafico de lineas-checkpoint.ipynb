{
 "cells": [
  {
   "cell_type": "markdown",
   "id": "847ecca7",
   "metadata": {},
   "source": [
    "# Grafico de lineas\n",
    "\n",
    "- nos permiten observar TENDENCIAS en nuestra variable numerica (subida y bajada)\n",
    "- puedo tener varias categorias en el eje X\n",
    "\n",
    "cuando utilizarlo\n",
    "analizar tendencias de bajada y subida\n",
    "comparar diferentes grupos\n",
    "\n",
    "no utilizar\n",
    "- pocos puntos (mejor uno de barras para magnitud)\n",
    "- si el eje X no tiene una progresion (categoricas por ej)\n",
    "- menos de 5 o 4 puntos\n",
    "- comparar proporciones (usar pie)\n",
    "- obtener informacion sobre distribuciones\n",
    "\n",
    "ejemplos:\n",
    "- pagina web: como ha ido cambiando el numero de visitas entre diferentes periodos de tiempo\n",
    "- banco: cuantas transacciones ocurren\n",
    "\n",
    "no hacer:\n",
    "- no es necesario que y empiece en 0\n",
    "- no suavizar la curva, usar lineas rectas\n",
    "- no usar oclores innecesariamente\n",
    "- no usar demasiadas lineas\n",
    "\n",
    "si hacer:\n",
    "- diferentes estilos de linea (solid, dashed, pointed)\n",
    "- marcar puntos con diferentes formas(punto, cuadro, tri, X)"
   ]
  },
  {
   "cell_type": "code",
   "execution_count": null,
   "id": "8b351fed",
   "metadata": {},
   "outputs": [],
   "source": []
  }
 ],
 "metadata": {
  "kernelspec": {
   "display_name": "Python 3 (ipykernel)",
   "language": "python",
   "name": "python3"
  },
  "language_info": {
   "codemirror_mode": {
    "name": "ipython",
    "version": 3
   },
   "file_extension": ".py",
   "mimetype": "text/x-python",
   "name": "python",
   "nbconvert_exporter": "python",
   "pygments_lexer": "ipython3",
   "version": "3.11.4"
  }
 },
 "nbformat": 4,
 "nbformat_minor": 5
}
