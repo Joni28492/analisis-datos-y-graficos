{
 "cells": [
  {
   "cell_type": "markdown",
   "id": "2b1a58e5",
   "metadata": {},
   "source": [
    "# Grafico de densidad KDE\n",
    "\n",
    "es una curva suavizada que nos permite entender la forma de nuestra distribucion\n",
    "\n",
    "cuando utilizar\n",
    "- observar la forma de la distribucion de los datos\n",
    "- es buena practica presentarlo enima de\n",
    "\n"
   ]
  }
 ],
 "metadata": {
  "kernelspec": {
   "display_name": "Python 3",
   "language": "python",
   "name": "python3"
  },
  "language_info": {
   "codemirror_mode": {
    "name": "ipython",
    "version": 3
   },
   "file_extension": ".py",
   "mimetype": "text/x-python",
   "name": "python",
   "nbconvert_exporter": "python",
   "pygments_lexer": "ipython3",
   "version": "3.8.8"
  }
 },
 "nbformat": 4,
 "nbformat_minor": 5
}
