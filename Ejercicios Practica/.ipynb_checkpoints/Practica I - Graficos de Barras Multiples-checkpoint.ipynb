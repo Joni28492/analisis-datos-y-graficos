{
 "cells": [
  {
   "cell_type": "markdown",
   "id": "f6e37445",
   "metadata": {},
   "source": [
    "# Practica 1\n",
    "## Graficos de barras mulitples"
   ]
  },
  {
   "cell_type": "markdown",
   "id": "895a58eb",
   "metadata": {},
   "source": [
    "resuelto"
   ]
  },
  {
   "cell_type": "code",
   "execution_count": 1,
   "id": "bd151851",
   "metadata": {},
   "outputs": [],
   "source": [
    "import pandas as pd\n",
    "import matplotlib.pyplot as plt"
   ]
  },
  {
   "cell_type": "code",
   "execution_count": 36,
   "id": "2cc32042",
   "metadata": {},
   "outputs": [
    {
     "data": {
      "text/html": [
       "<div>\n",
       "<style scoped>\n",
       "    .dataframe tbody tr th:only-of-type {\n",
       "        vertical-align: middle;\n",
       "    }\n",
       "\n",
       "    .dataframe tbody tr th {\n",
       "        vertical-align: top;\n",
       "    }\n",
       "\n",
       "    .dataframe thead th {\n",
       "        text-align: right;\n",
       "    }\n",
       "</style>\n",
       "<table border=\"1\" class=\"dataframe\">\n",
       "  <thead>\n",
       "    <tr style=\"text-align: right;\">\n",
       "      <th></th>\n",
       "      <th>dataset</th>\n",
       "      <th>algoritmo1</th>\n",
       "      <th>algoritmo2</th>\n",
       "    </tr>\n",
       "  </thead>\n",
       "  <tbody>\n",
       "    <tr>\n",
       "      <th>0</th>\n",
       "      <td>City-Temp</td>\n",
       "      <td>24.17</td>\n",
       "      <td>22.92</td>\n",
       "    </tr>\n",
       "    <tr>\n",
       "      <th>1</th>\n",
       "      <td>Stocks-UK</td>\n",
       "      <td>21.51</td>\n",
       "      <td>16.70</td>\n",
       "    </tr>\n",
       "    <tr>\n",
       "      <th>2</th>\n",
       "      <td>Stocks-USA</td>\n",
       "      <td>19.22</td>\n",
       "      <td>12.06</td>\n",
       "    </tr>\n",
       "    <tr>\n",
       "      <th>3</th>\n",
       "      <td>Stocks-DE</td>\n",
       "      <td>20.78</td>\n",
       "      <td>13.46</td>\n",
       "    </tr>\n",
       "    <tr>\n",
       "      <th>4</th>\n",
       "      <td>IR-bio-temp</td>\n",
       "      <td>22.90</td>\n",
       "      <td>18.94</td>\n",
       "    </tr>\n",
       "    <tr>\n",
       "      <th>5</th>\n",
       "      <td>Wind-dir</td>\n",
       "      <td>28.15</td>\n",
       "      <td>19.80</td>\n",
       "    </tr>\n",
       "    <tr>\n",
       "      <th>6</th>\n",
       "      <td>PM10-dust</td>\n",
       "      <td>19.92</td>\n",
       "      <td>13.68</td>\n",
       "    </tr>\n",
       "    <tr>\n",
       "      <th>7</th>\n",
       "      <td>Dew-Point-Temp</td>\n",
       "      <td>39.03</td>\n",
       "      <td>32.49</td>\n",
       "    </tr>\n",
       "    <tr>\n",
       "      <th>8</th>\n",
       "      <td>Air-Pressure</td>\n",
       "      <td>27.89</td>\n",
       "      <td>19.23</td>\n",
       "    </tr>\n",
       "    <tr>\n",
       "      <th>9</th>\n",
       "      <td>Basel-wind</td>\n",
       "      <td>48.87</td>\n",
       "      <td>45.65</td>\n",
       "    </tr>\n",
       "    <tr>\n",
       "      <th>10</th>\n",
       "      <td>Basel-temp</td>\n",
       "      <td>36.51</td>\n",
       "      <td>30.12</td>\n",
       "    </tr>\n",
       "    <tr>\n",
       "      <th>11</th>\n",
       "      <td>Bitcoin-price</td>\n",
       "      <td>57.08</td>\n",
       "      <td>47.17</td>\n",
       "    </tr>\n",
       "    <tr>\n",
       "      <th>12</th>\n",
       "      <td>Bird-migration</td>\n",
       "      <td>35.94</td>\n",
       "      <td>28.37</td>\n",
       "    </tr>\n",
       "    <tr>\n",
       "      <th>13</th>\n",
       "      <td>Air-sensor</td>\n",
       "      <td>63.43</td>\n",
       "      <td>49.56</td>\n",
       "    </tr>\n",
       "    <tr>\n",
       "      <th>14</th>\n",
       "      <td>Food-prices</td>\n",
       "      <td>28.31</td>\n",
       "      <td>24.59</td>\n",
       "    </tr>\n",
       "    <tr>\n",
       "      <th>15</th>\n",
       "      <td>POI-lat</td>\n",
       "      <td>71.73</td>\n",
       "      <td>47.71</td>\n",
       "    </tr>\n",
       "    <tr>\n",
       "      <th>16</th>\n",
       "      <td>POI-Llon</td>\n",
       "      <td>75.89</td>\n",
       "      <td>54.55</td>\n",
       "    </tr>\n",
       "    <tr>\n",
       "      <th>17</th>\n",
       "      <td>Blockchain-tr</td>\n",
       "      <td>62.60</td>\n",
       "      <td>53.16</td>\n",
       "    </tr>\n",
       "    <tr>\n",
       "      <th>18</th>\n",
       "      <td>SD-bench</td>\n",
       "      <td>23.04</td>\n",
       "      <td>17.00</td>\n",
       "    </tr>\n",
       "  </tbody>\n",
       "</table>\n",
       "</div>"
      ],
      "text/plain": [
       "           dataset  algoritmo1  algoritmo2\n",
       "0        City-Temp       24.17       22.92\n",
       "1        Stocks-UK       21.51       16.70\n",
       "2       Stocks-USA       19.22       12.06\n",
       "3        Stocks-DE       20.78       13.46\n",
       "4      IR-bio-temp       22.90       18.94\n",
       "5         Wind-dir       28.15       19.80\n",
       "6        PM10-dust       19.92       13.68\n",
       "7   Dew-Point-Temp       39.03       32.49\n",
       "8     Air-Pressure       27.89       19.23\n",
       "9       Basel-wind       48.87       45.65\n",
       "10      Basel-temp       36.51       30.12\n",
       "11   Bitcoin-price       57.08       47.17\n",
       "12  Bird-migration       35.94       28.37\n",
       "13      Air-sensor       63.43       49.56\n",
       "14     Food-prices       28.31       24.59\n",
       "15         POI-lat       71.73       47.71\n",
       "16        POI-Llon       75.89       54.55\n",
       "17   Blockchain-tr       62.60       53.16\n",
       "18        SD-bench       23.04       17.00"
      ]
     },
     "execution_count": 36,
     "metadata": {},
     "output_type": "execute_result"
    }
   ],
   "source": [
    "df = pd.read_csv('../data/comparasion_algoritmos.csv',index_col='dataset')\n",
    "df"
   ]
  },
  {
   "cell_type": "code",
   "execution_count": 38,
   "id": "2b9708d8",
   "metadata": {},
   "outputs": [
    {
     "data": {
      "image/png": "[encoded data removed]",
      "text/plain": [
       "<Figure size 1200x500 with 1 Axes>"
      ]
     },
     "metadata": {},
     "output_type": "display_data"
    }
   ],
   "source": [
    "\n",
    "\n",
    "ax = df.plot.bar(\n",
    "    #x='dataset',# este se pone si no le hacemos el index_col\n",
    "    y=['algoritmo1','algoritmo2'],\n",
    "    title= 'Evaluacion de Algoritmo1 vs Algoritmo1',\n",
    "    figsize=(12,5)\n",
    ")\n",
    "\n",
    "# otra forma\n",
    "# df.plot(\n",
    "#     kind='bar',\n",
    "#     ...rest\n",
    "# )\n",
    "\n",
    "ax.set_xlabel('Dataset')\n",
    "ax.set_ylabel('Rendimiento')\n",
    "# ax.set_title('') de esta misma manera\n",
    "\n",
    "ax.legend(\n",
    "    labels=['Algoritmo 1','Algoritmo 2']\n",
    "    #labels=df.columns.values\n",
    ")\n",
    "\n",
    "ax.set_axisbelow(True) # ponemos el grid por debajo\n",
    "\n",
    "\n",
    "ax.grid(visible=True, axis='x' )\n",
    "ax.grid(visible=True, axis='y')"
   ]
  },
  {
   "cell_type": "code",
   "execution_count": 28,
   "id": "7f01e7c2",
   "metadata": {},
   "outputs": [
    {
     "data": {
      "text/plain": [
       "array(['algoritmo1', 'algoritmo2'], dtype=object)"
      ]
     },
     "execution_count": 28,
     "metadata": {},
     "output_type": "execute_result"
    }
   ],
   "source": [
    "df.columns.values"
   ]
  },
  {
   "cell_type": "code",
   "execution_count": null,
   "id": "b68d6624",
   "metadata": {},
   "outputs": [],
   "source": []
  }
 ],
 "metadata": {
  "kernelspec": {
   "display_name": "Python 3 (ipykernel)",
   "language": "python",
   "name": "python3"
  },
  "language_info": {
   "codemirror_mode": {
    "name": "ipython",
    "version": 3
   },
   "file_extension": ".py",
   "mimetype": "text/x-python",
   "name": "python",
   "nbconvert_exporter": "python",
   "pygments_lexer": "ipython3",
   "version": "3.11.4"
  }
 },
 "nbformat": 4,
 "nbformat_minor": 5
}
