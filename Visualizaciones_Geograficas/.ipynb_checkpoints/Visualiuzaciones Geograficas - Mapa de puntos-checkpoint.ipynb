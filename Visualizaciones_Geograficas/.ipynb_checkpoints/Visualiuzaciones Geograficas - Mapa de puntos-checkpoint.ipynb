{
 "cells": [
  {
   "cell_type": "markdown",
   "id": "a5a0044d",
   "metadata": {},
   "source": [
    "# Mapa de puntos"
   ]
  },
  {
   "cell_type": "code",
   "execution_count": 1,
   "id": "01f414b1",
   "metadata": {},
   "outputs": [],
   "source": [
    "import pandas as pd \n",
    "# es para que nos muestre todas las filas y col pero se puede petar\n",
    "# pd.set_option('display.max_columns', None)\n",
    "# pd.set_option('display.max_rows', None)"
   ]
  },
  {
   "cell_type": "code",
   "execution_count": 2,
   "id": "1e66419b",
   "metadata": {},
   "outputs": [
    {
     "data": {
      "text/html": [
       "<div>\n",
       "<style scoped>\n",
       "    .dataframe tbody tr th:only-of-type {\n",
       "        vertical-align: middle;\n",
       "    }\n",
       "\n",
       "    .dataframe tbody tr th {\n",
       "        vertical-align: top;\n",
       "    }\n",
       "\n",
       "    .dataframe thead th {\n",
       "        text-align: right;\n",
       "    }\n",
       "</style>\n",
       "<table border=\"1\" class=\"dataframe\">\n",
       "  <thead>\n",
       "    <tr style=\"text-align: right;\">\n",
       "      <th></th>\n",
       "      <th>latitude</th>\n",
       "      <th>longitude</th>\n",
       "      <th>altitude</th>\n",
       "      <th>geometry</th>\n",
       "      <th>OBJECTID</th>\n",
       "      <th>IDESTACION</th>\n",
       "      <th>FECHAACTUAL</th>\n",
       "      <th>MODO</th>\n",
       "      <th>CODIGOESTACION</th>\n",
       "      <th>DENOMINACION</th>\n",
       "      <th>...</th>\n",
       "      <th>FECHAALTA</th>\n",
       "      <th>FECHAINICIO</th>\n",
       "      <th>FECHAFIN</th>\n",
       "      <th>X</th>\n",
       "      <th>Y</th>\n",
       "      <th>GRADOACCESIBILIDAD</th>\n",
       "      <th>SITUACIONCALLE</th>\n",
       "      <th>DENOMINACION_SAE</th>\n",
       "      <th>INTERURBANOS_CODIGOEMT_CRTM</th>\n",
       "      <th>INTERURBANOS_CODIGOEMT_EMPRESA</th>\n",
       "    </tr>\n",
       "  </thead>\n",
       "  <tbody>\n",
       "    <tr>\n",
       "      <th>0</th>\n",
       "      <td>40.424842</td>\n",
       "      <td>-3.707419</td>\n",
       "      <td>NaN</td>\n",
       "      <td>Point</td>\n",
       "      <td>1</td>\n",
       "      <td>4_38</td>\n",
       "      <td>20150709</td>\n",
       "      <td>4</td>\n",
       "      <td>38</td>\n",
       "      <td>NOVICIADO</td>\n",
       "      <td>...</td>\n",
       "      <td>19990405</td>\n",
       "      <td>19930701</td>\n",
       "      <td>NaN</td>\n",
       "      <td>440100</td>\n",
       "      <td>4475360</td>\n",
       "      <td>N</td>\n",
       "      <td>NaN</td>\n",
       "      <td>NaN</td>\n",
       "      <td>NaN</td>\n",
       "      <td>NaN</td>\n",
       "    </tr>\n",
       "    <tr>\n",
       "      <th>1</th>\n",
       "      <td>40.411472</td>\n",
       "      <td>-3.661785</td>\n",
       "      <td>NaN</td>\n",
       "      <td>Point</td>\n",
       "      <td>2</td>\n",
       "      <td>4_175</td>\n",
       "      <td>20150709</td>\n",
       "      <td>4</td>\n",
       "      <td>175</td>\n",
       "      <td>ESTRELLA</td>\n",
       "      <td>...</td>\n",
       "      <td>19990405</td>\n",
       "      <td>19930701</td>\n",
       "      <td>NaN</td>\n",
       "      <td>443960</td>\n",
       "      <td>4473846</td>\n",
       "      <td>N</td>\n",
       "      <td>NaN</td>\n",
       "      <td>NaN</td>\n",
       "      <td>NaN</td>\n",
       "      <td>NaN</td>\n",
       "    </tr>\n",
       "    <tr>\n",
       "      <th>2</th>\n",
       "      <td>40.441975</td>\n",
       "      <td>-3.701328</td>\n",
       "      <td>NaN</td>\n",
       "      <td>Point</td>\n",
       "      <td>3</td>\n",
       "      <td>4_7</td>\n",
       "      <td>20150709</td>\n",
       "      <td>4</td>\n",
       "      <td>7</td>\n",
       "      <td>RIOS ROSAS</td>\n",
       "      <td>...</td>\n",
       "      <td>19990405</td>\n",
       "      <td>19930701</td>\n",
       "      <td>NaN</td>\n",
       "      <td>440632</td>\n",
       "      <td>4477258</td>\n",
       "      <td>N</td>\n",
       "      <td>NaN</td>\n",
       "      <td>NaN</td>\n",
       "      <td>NaN</td>\n",
       "      <td>NaN</td>\n",
       "    </tr>\n",
       "    <tr>\n",
       "      <th>3</th>\n",
       "      <td>40.394808</td>\n",
       "      <td>-3.768128</td>\n",
       "      <td>NaN</td>\n",
       "      <td>Point</td>\n",
       "      <td>4</td>\n",
       "      <td>4_102</td>\n",
       "      <td>20150709</td>\n",
       "      <td>4</td>\n",
       "      <td>102</td>\n",
       "      <td>CAMPAMENTO</td>\n",
       "      <td>...</td>\n",
       "      <td>20021120</td>\n",
       "      <td>20020901</td>\n",
       "      <td>NaN</td>\n",
       "      <td>434921</td>\n",
       "      <td>4472069</td>\n",
       "      <td>N</td>\n",
       "      <td>NaN</td>\n",
       "      <td>NaN</td>\n",
       "      <td>NaN</td>\n",
       "      <td>NaN</td>\n",
       "    </tr>\n",
       "    <tr>\n",
       "      <th>4</th>\n",
       "      <td>40.387097</td>\n",
       "      <td>-3.706896</td>\n",
       "      <td>NaN</td>\n",
       "      <td>Point</td>\n",
       "      <td>5</td>\n",
       "      <td>4_109</td>\n",
       "      <td>20150709</td>\n",
       "      <td>4</td>\n",
       "      <td>109</td>\n",
       "      <td>USERA</td>\n",
       "      <td>...</td>\n",
       "      <td>19990405</td>\n",
       "      <td>19930701</td>\n",
       "      <td>NaN</td>\n",
       "      <td>440111</td>\n",
       "      <td>4471170</td>\n",
       "      <td>N</td>\n",
       "      <td>NaN</td>\n",
       "      <td>NaN</td>\n",
       "      <td>NaN</td>\n",
       "      <td>NaN</td>\n",
       "    </tr>\n",
       "    <tr>\n",
       "      <th>...</th>\n",
       "      <td>...</td>\n",
       "      <td>...</td>\n",
       "      <td>...</td>\n",
       "      <td>...</td>\n",
       "      <td>...</td>\n",
       "      <td>...</td>\n",
       "      <td>...</td>\n",
       "      <td>...</td>\n",
       "      <td>...</td>\n",
       "      <td>...</td>\n",
       "      <td>...</td>\n",
       "      <td>...</td>\n",
       "      <td>...</td>\n",
       "      <td>...</td>\n",
       "      <td>...</td>\n",
       "      <td>...</td>\n",
       "      <td>...</td>\n",
       "      <td>...</td>\n",
       "      <td>...</td>\n",
       "      <td>...</td>\n",
       "      <td>...</td>\n",
       "    </tr>\n",
       "    <tr>\n",
       "      <th>284</th>\n",
       "      <td>40.433158</td>\n",
       "      <td>-3.689542</td>\n",
       "      <td>NaN</td>\n",
       "      <td>Point</td>\n",
       "      <td>285</td>\n",
       "      <td>4_84</td>\n",
       "      <td>20150709</td>\n",
       "      <td>4</td>\n",
       "      <td>84</td>\n",
       "      <td>RUBEN DARIO</td>\n",
       "      <td>...</td>\n",
       "      <td>19990405</td>\n",
       "      <td>19930701</td>\n",
       "      <td>NaN</td>\n",
       "      <td>441624</td>\n",
       "      <td>4476271</td>\n",
       "      <td>N</td>\n",
       "      <td>NaN</td>\n",
       "      <td>NaN</td>\n",
       "      <td>NaN</td>\n",
       "      <td>NaN</td>\n",
       "    </tr>\n",
       "    <tr>\n",
       "      <th>285</th>\n",
       "      <td>40.429056</td>\n",
       "      <td>-3.702182</td>\n",
       "      <td>NaN</td>\n",
       "      <td>Point</td>\n",
       "      <td>286</td>\n",
       "      <td>4_9</td>\n",
       "      <td>20150709</td>\n",
       "      <td>4</td>\n",
       "      <td>9</td>\n",
       "      <td>BILBAO</td>\n",
       "      <td>...</td>\n",
       "      <td>19990405</td>\n",
       "      <td>19930701</td>\n",
       "      <td>NaN</td>\n",
       "      <td>440548</td>\n",
       "      <td>4475824</td>\n",
       "      <td>N</td>\n",
       "      <td>NaN</td>\n",
       "      <td>NaN</td>\n",
       "      <td>NaN</td>\n",
       "      <td>NaN</td>\n",
       "    </tr>\n",
       "    <tr>\n",
       "      <th>286</th>\n",
       "      <td>40.397356</td>\n",
       "      <td>-3.715960</td>\n",
       "      <td>NaN</td>\n",
       "      <td>Point</td>\n",
       "      <td>287</td>\n",
       "      <td>4_94</td>\n",
       "      <td>20150709</td>\n",
       "      <td>4</td>\n",
       "      <td>94</td>\n",
       "      <td>MARQUES DE VADILLO</td>\n",
       "      <td>...</td>\n",
       "      <td>19990405</td>\n",
       "      <td>19930701</td>\n",
       "      <td>NaN</td>\n",
       "      <td>439351</td>\n",
       "      <td>4472315</td>\n",
       "      <td>N</td>\n",
       "      <td>NaN</td>\n",
       "      <td>NaN</td>\n",
       "      <td>NaN</td>\n",
       "      <td>NaN</td>\n",
       "    </tr>\n",
       "    <tr>\n",
       "      <th>287</th>\n",
       "      <td>40.393352</td>\n",
       "      <td>-3.723605</td>\n",
       "      <td>NaN</td>\n",
       "      <td>Point</td>\n",
       "      <td>288</td>\n",
       "      <td>4_95</td>\n",
       "      <td>20150709</td>\n",
       "      <td>4</td>\n",
       "      <td>95</td>\n",
       "      <td>URGEL</td>\n",
       "      <td>...</td>\n",
       "      <td>19990405</td>\n",
       "      <td>19930701</td>\n",
       "      <td>NaN</td>\n",
       "      <td>438698</td>\n",
       "      <td>4471876</td>\n",
       "      <td>N</td>\n",
       "      <td>NaN</td>\n",
       "      <td>NaN</td>\n",
       "      <td>NaN</td>\n",
       "      <td>NaN</td>\n",
       "    </tr>\n",
       "    <tr>\n",
       "      <th>288</th>\n",
       "      <td>40.388847</td>\n",
       "      <td>-3.739825</td>\n",
       "      <td>NaN</td>\n",
       "      <td>Point</td>\n",
       "      <td>289</td>\n",
       "      <td>4_97</td>\n",
       "      <td>20150709</td>\n",
       "      <td>4</td>\n",
       "      <td>97</td>\n",
       "      <td>VISTA ALEGRE</td>\n",
       "      <td>...</td>\n",
       "      <td>19990405</td>\n",
       "      <td>19930701</td>\n",
       "      <td>NaN</td>\n",
       "      <td>437318</td>\n",
       "      <td>4471387</td>\n",
       "      <td>N</td>\n",
       "      <td>NaN</td>\n",
       "      <td>NaN</td>\n",
       "      <td>NaN</td>\n",
       "      <td>NaN</td>\n",
       "    </tr>\n",
       "  </tbody>\n",
       "</table>\n",
       "<p>289 rows × 56 columns</p>\n",
       "</div>"
      ],
      "text/plain": [
       "      latitude  longitude  altitude geometry  OBJECTID IDESTACION  \\\n",
       "0    40.424842  -3.707419       NaN    Point         1       4_38   \n",
       "1    40.411472  -3.661785       NaN    Point         2      4_175   \n",
       "2    40.441975  -3.701328       NaN    Point         3        4_7   \n",
       "3    40.394808  -3.768128       NaN    Point         4      4_102   \n",
       "4    40.387097  -3.706896       NaN    Point         5      4_109   \n",
       "..         ...        ...       ...      ...       ...        ...   \n",
       "284  40.433158  -3.689542       NaN    Point       285       4_84   \n",
       "285  40.429056  -3.702182       NaN    Point       286        4_9   \n",
       "286  40.397356  -3.715960       NaN    Point       287       4_94   \n",
       "287  40.393352  -3.723605       NaN    Point       288       4_95   \n",
       "288  40.388847  -3.739825       NaN    Point       289       4_97   \n",
       "\n",
       "     FECHAACTUAL  MODO  CODIGOESTACION        DENOMINACION  ... FECHAALTA  \\\n",
       "0       20150709     4              38           NOVICIADO  ...  19990405   \n",
       "1       20150709     4             175            ESTRELLA  ...  19990405   \n",
       "2       20150709     4               7          RIOS ROSAS  ...  19990405   \n",
       "3       20150709     4             102          CAMPAMENTO  ...  20021120   \n",
       "4       20150709     4             109               USERA  ...  19990405   \n",
       "..           ...   ...             ...                 ...  ...       ...   \n",
       "284     20150709     4              84         RUBEN DARIO  ...  19990405   \n",
       "285     20150709     4               9              BILBAO  ...  19990405   \n",
       "286     20150709     4              94  MARQUES DE VADILLO  ...  19990405   \n",
       "287     20150709     4              95               URGEL  ...  19990405   \n",
       "288     20150709     4              97        VISTA ALEGRE  ...  19990405   \n",
       "\n",
       "    FECHAINICIO  FECHAFIN       X        Y  GRADOACCESIBILIDAD  \\\n",
       "0      19930701       NaN  440100  4475360                   N   \n",
       "1      19930701       NaN  443960  4473846                   N   \n",
       "2      19930701       NaN  440632  4477258                   N   \n",
       "3      20020901       NaN  434921  4472069                   N   \n",
       "4      19930701       NaN  440111  4471170                   N   \n",
       "..          ...       ...     ...      ...                 ...   \n",
       "284    19930701       NaN  441624  4476271                   N   \n",
       "285    19930701       NaN  440548  4475824                   N   \n",
       "286    19930701       NaN  439351  4472315                   N   \n",
       "287    19930701       NaN  438698  4471876                   N   \n",
       "288    19930701       NaN  437318  4471387                   N   \n",
       "\n",
       "     SITUACIONCALLE DENOMINACION_SAE  INTERURBANOS_CODIGOEMT_CRTM  \\\n",
       "0               NaN              NaN                          NaN   \n",
       "1               NaN              NaN                          NaN   \n",
       "2               NaN              NaN                          NaN   \n",
       "3               NaN              NaN                          NaN   \n",
       "4               NaN              NaN                          NaN   \n",
       "..              ...              ...                          ...   \n",
       "284             NaN              NaN                          NaN   \n",
       "285             NaN              NaN                          NaN   \n",
       "286             NaN              NaN                          NaN   \n",
       "287             NaN              NaN                          NaN   \n",
       "288             NaN              NaN                          NaN   \n",
       "\n",
       "     INTERURBANOS_CODIGOEMT_EMPRESA  \n",
       "0                               NaN  \n",
       "1                               NaN  \n",
       "2                               NaN  \n",
       "3                               NaN  \n",
       "4                               NaN  \n",
       "..                              ...  \n",
       "284                             NaN  \n",
       "285                             NaN  \n",
       "286                             NaN  \n",
       "287                             NaN  \n",
       "288                             NaN  \n",
       "\n",
       "[289 rows x 56 columns]"
      ]
     },
     "execution_count": 2,
     "metadata": {},
     "output_type": "execute_result"
    }
   ],
   "source": [
    "df = pd.read_csv('../data/madrid_metro/estaciones.csv')\n",
    "df"
   ]
  },
  {
   "cell_type": "markdown",
   "id": "29e95115",
   "metadata": {},
   "source": [
    "es importante agrupar las estacions porque las coordenadas que nos dan son las de cada una de las entradas, y en este caso que hemos escogido usar la primera coordenada de cada estacion"
   ]
  },
  {
   "cell_type": "code",
   "execution_count": 12,
   "id": "6d40def4",
   "metadata": {},
   "outputs": [
    {
     "data": {
      "text/html": [
       "<div>\n",
       "<style scoped>\n",
       "    .dataframe tbody tr th:only-of-type {\n",
       "        vertical-align: middle;\n",
       "    }\n",
       "\n",
       "    .dataframe tbody tr th {\n",
       "        vertical-align: top;\n",
       "    }\n",
       "\n",
       "    .dataframe thead th {\n",
       "        text-align: right;\n",
       "    }\n",
       "</style>\n",
       "<table border=\"1\" class=\"dataframe\">\n",
       "  <thead>\n",
       "    <tr style=\"text-align: right;\">\n",
       "      <th></th>\n",
       "      <th>DENOMINACION</th>\n",
       "      <th>latitude</th>\n",
       "      <th>longitude</th>\n",
       "      <th>ENCUESTADOMICILIARIA</th>\n",
       "      <th>GRADOACCESIBILIDAD</th>\n",
       "    </tr>\n",
       "  </thead>\n",
       "  <tbody>\n",
       "    <tr>\n",
       "      <th>0</th>\n",
       "      <td>ABRANTES</td>\n",
       "      <td>40.380834</td>\n",
       "      <td>-3.727900</td>\n",
       "      <td>296</td>\n",
       "      <td>T</td>\n",
       "    </tr>\n",
       "    <tr>\n",
       "      <th>1</th>\n",
       "      <td>ACACIAS</td>\n",
       "      <td>40.403872</td>\n",
       "      <td>-3.706641</td>\n",
       "      <td>28</td>\n",
       "      <td>N</td>\n",
       "    </tr>\n",
       "    <tr>\n",
       "      <th>2</th>\n",
       "      <td>AEROPUERTO T1 T2 T3</td>\n",
       "      <td>40.468644</td>\n",
       "      <td>-3.569538</td>\n",
       "      <td>585</td>\n",
       "      <td>T</td>\n",
       "    </tr>\n",
       "    <tr>\n",
       "      <th>3</th>\n",
       "      <td>AEROPUERTO T4</td>\n",
       "      <td>40.491767</td>\n",
       "      <td>-3.593246</td>\n",
       "      <td>585</td>\n",
       "      <td>T</td>\n",
       "    </tr>\n",
       "    <tr>\n",
       "      <th>4</th>\n",
       "      <td>ALAMEDA DE OSUNA</td>\n",
       "      <td>40.457789</td>\n",
       "      <td>-3.587521</td>\n",
       "      <td>581</td>\n",
       "      <td>T</td>\n",
       "    </tr>\n",
       "    <tr>\n",
       "      <th>...</th>\n",
       "      <td>...</td>\n",
       "      <td>...</td>\n",
       "      <td>...</td>\n",
       "      <td>...</td>\n",
       "      <td>...</td>\n",
       "    </tr>\n",
       "    <tr>\n",
       "      <th>236</th>\n",
       "      <td>VILLA DE VALLECAS</td>\n",
       "      <td>40.379599</td>\n",
       "      <td>-3.621296</td>\n",
       "      <td>500</td>\n",
       "      <td>T</td>\n",
       "    </tr>\n",
       "    <tr>\n",
       "      <th>237</th>\n",
       "      <td>VILLAVERDE ALTO</td>\n",
       "      <td>40.341229</td>\n",
       "      <td>-3.711990</td>\n",
       "      <td>484</td>\n",
       "      <td>T</td>\n",
       "    </tr>\n",
       "    <tr>\n",
       "      <th>238</th>\n",
       "      <td>VILLAVERDE BAJO CRUCE</td>\n",
       "      <td>40.350895</td>\n",
       "      <td>-3.692649</td>\n",
       "      <td>481</td>\n",
       "      <td>T</td>\n",
       "    </tr>\n",
       "    <tr>\n",
       "      <th>239</th>\n",
       "      <td>VINATEROS</td>\n",
       "      <td>40.410240</td>\n",
       "      <td>-3.652734</td>\n",
       "      <td>380</td>\n",
       "      <td>N</td>\n",
       "    </tr>\n",
       "    <tr>\n",
       "      <th>240</th>\n",
       "      <td>VISTA ALEGRE</td>\n",
       "      <td>40.388847</td>\n",
       "      <td>-3.739825</td>\n",
       "      <td>289</td>\n",
       "      <td>N</td>\n",
       "    </tr>\n",
       "  </tbody>\n",
       "</table>\n",
       "<p>241 rows × 5 columns</p>\n",
       "</div>"
      ],
      "text/plain": [
       "              DENOMINACION   latitude  longitude  ENCUESTADOMICILIARIA  \\\n",
       "0                 ABRANTES  40.380834  -3.727900                   296   \n",
       "1                  ACACIAS  40.403872  -3.706641                    28   \n",
       "2      AEROPUERTO T1 T2 T3  40.468644  -3.569538                   585   \n",
       "3            AEROPUERTO T4  40.491767  -3.593246                   585   \n",
       "4         ALAMEDA DE OSUNA  40.457789  -3.587521                   581   \n",
       "..                     ...        ...        ...                   ...   \n",
       "236      VILLA DE VALLECAS  40.379599  -3.621296                   500   \n",
       "237        VILLAVERDE ALTO  40.341229  -3.711990                   484   \n",
       "238  VILLAVERDE BAJO CRUCE  40.350895  -3.692649                   481   \n",
       "239              VINATEROS  40.410240  -3.652734                   380   \n",
       "240           VISTA ALEGRE  40.388847  -3.739825                   289   \n",
       "\n",
       "    GRADOACCESIBILIDAD  \n",
       "0                    T  \n",
       "1                    N  \n",
       "2                    T  \n",
       "3                    T  \n",
       "4                    T  \n",
       "..                 ...  \n",
       "236                  T  \n",
       "237                  T  \n",
       "238                  T  \n",
       "239                  N  \n",
       "240                  N  \n",
       "\n",
       "[241 rows x 5 columns]"
      ]
     },
     "execution_count": 12,
     "metadata": {},
     "output_type": "execute_result"
    }
   ],
   "source": [
    "estaciones = df.groupby('DENOMINACION').agg({\n",
    "    'latitude': 'first',\n",
    "    'longitude':'first',\n",
    "    'ENCUESTADOMICILIARIA':'sum',\n",
    "    'GRADOACCESIBILIDAD':'first',\n",
    "    \n",
    "    \n",
    "})\n",
    "estaciones = estaciones.reset_index()\n",
    "estaciones"
   ]
  },
  {
   "cell_type": "code",
   "execution_count": 10,
   "id": "a20cfa1a",
   "metadata": {},
   "outputs": [],
   "source": [
    "import plotly.express as px"
   ]
  },
  {
   "cell_type": "code",
   "execution_count": 16,
   "id": "36a9e04a",
   "metadata": {},
   "outputs": [
    {
     "data": {
      "application/vnd.plotly.v1+json": {
       "config": {
        "plotlyServerURL": "https://plot.ly"
       },
       "data": [
        {
         "hovertemplate": "<b>%{hovertext}</b><br><br>latitude=%{lat}<br>longitude=%{lon}<br>ENCUESTADOMICILIARIA=%{marker.color}<extra></extra>",
         "hovertext": [
          "ABRANTES",
          "ACACIAS",
          "AEROPUERTO T1 T2 T3",
          "AEROPUERTO T4",
          "ALAMEDA DE OSUNA",
          "ALCORCON CENTRAL",
          "ALFONSO XIII",
          "ALMENDRALES",
          "ALONSO CANO",
          "ALONSO DE MENDOZA",
          "ALONSO MARTINEZ",
          "ALSACIA",
          "ALTO DE EXTREMADURA",
          "ALTO DEL ARENAL",
          "ALUCHE",
          "ALVARADO",
          "ANTON MARTIN",
          "ANTONIO MACHADO",
          "ARGANDA DEL REY",
          "ARGANZUELA-PLANETARIO",
          "ARGÜELLES",
          "ARROYO CULEBRO",
          "ARTILLEROS",
          "ARTURO SORIA",
          "ASCAO",
          "ATOCHA RENFE",
          "AVDA. DE LA ILUSTRACION",
          "AVENIDA DE AMERICA",
          "AVENIDA DE GUADALAJARA",
          "AVENIDA DE LA PAZ",
          "AVIACION ESPAÑOLA",
          "BAMBU",
          "BANCO DE ESPAÑA",
          "BARAJAS",
          "BARRIO DE LA CONCEPCION",
          "BARRIO DEL PILAR",
          "BARRIO DEL PUERTO",
          "BATAN",
          "BAUNATAL",
          "BEGOÑA",
          "BILBAO",
          "BUENOS AIRES",
          "CALLAO",
          "CAMPAMENTO",
          "CANAL",
          "CANILLAS",
          "CANILLEJAS",
          "CARABANCHEL",
          "CARABANCHEL ALTO",
          "CARPETANA",
          "CARTAGENA",
          "CASA DE CAMPO",
          "CASA DEL RELOJ",
          "CHAMARTIN",
          "CHUECA",
          "CIUDAD DE LOS ANGELES",
          "CIUDAD LINEAL",
          "CIUDAD UNIVERSITARIA",
          "COLOMBIA",
          "COLON",
          "COLONIA JARDIN",
          "CONCHA ESPINA",
          "CONDE DE CASAL",
          "CONGOSTO",
          "CONSERVATORIO",
          "COSLADA CENTRAL",
          "CRUZ DEL RAYO",
          "CUATRO CAMINOS",
          "CUATRO VIENTOS",
          "CUZCO",
          "DELICIAS",
          "DIEGO DE LEON",
          "DUQUE DE PASTRANA",
          "EL BERCIAL",
          "EL CAPRICHO",
          "EL CARMEN",
          "EL CARRASCAL",
          "EL CASAR",
          "EMBAJADORES",
          "EMPALME",
          "ESPERANZA",
          "ESTACIÓN DEL ARTE",
          "ESTADIO METROPOLITANO",
          "ESTRECHO",
          "ESTRELLA",
          "EUGENIA DE MONTIJO",
          "FERIA DE MADRID",
          "FRANCOS RODRIGUEZ",
          "FUENCARRAL",
          "FUENLABRADA CENTRAL",
          "GARCIA NOBLEJAS",
          "GETAFE CENTRAL",
          "GOYA",
          "GRAN VIA",
          "GREGORIO MARAÑON",
          "GUZMAN EL BUENO",
          "HENARES",
          "HERRERA ORIA",
          "HORTALEZA",
          "HOSPITAL 12 DE OCTUBRE",
          "HOSPITAL DE FUENLABRADA",
          "HOSPITAL DE MOSTOLES",
          "HOSPITAL DEL HENARES",
          "HOSPITAL INFANTA SOFIA",
          "HOSPITAL SEVERO OCHOA",
          "IBIZA",
          "IGLESIA",
          "ISLAS FILIPINAS",
          "JARAMA",
          "JOAQUIN VILUMBRALES",
          "JUAN DE LA CIERVA",
          "JULIAN BESTEIRO",
          "LA ALMUDENA",
          "LA ELIPA",
          "LA FORTUNA",
          "LA GAVIA",
          "LA GRANJA",
          "LA LATINA",
          "LA MORALEJA",
          "LA PESETA",
          "LA POVEDA",
          "LA RAMBLA",
          "LACOMA",
          "LAGO",
          "LAGUNA",
          "LAS MUSAS",
          "LAS ROSAS",
          "LAS SUERTES",
          "LAS TABLAS",
          "LAVAPIES",
          "LEGANES CENTRAL",
          "LEGAZPI",
          "LISTA",
          "LORANCA",
          "LOS ESPARTALES",
          "LUCERO",
          "MANOTERAS",
          "MANUEL BECERRA",
          "MANUEL DE FALLA",
          "MANUELA MALASAÑA",
          "MAR DE CRISTAL",
          "MARQUES DE LA VALDAVIA",
          "MARQUES DE VADILLO",
          "MENDEZ ALVARO",
          "MENENDEZ PELAYO",
          "MIGUEL HERNANDEZ",
          "MIRASIERRA",
          "MONCLOA",
          "MONTECARMELO",
          "MOSTOLES CENTRAL",
          "NOVICIADO",
          "NUEVA NUMANCIA",
          "NUEVOS MINISTERIOS",
          "NUÑEZ DE BALBOA",
          "O'DONNELL",
          "OPAÑEL",
          "OPERA",
          "OPORTO",
          "PACIFICO",
          "PACO DE LUCIA",
          "PALOS DE LA FRONTERA",
          "PAN BENDITO",
          "PARQUE DE LAS AVENIDAS",
          "PARQUE DE LOS ESTADOS",
          "PARQUE DE SANTA MARIA",
          "PARQUE EUROPA",
          "PARQUE LISBOA",
          "PARQUE OESTE",
          "PAVONES",
          "PEÑAGRANDE",
          "PINAR DE CHAMARTIN",
          "PINAR DEL REY",
          "PIO XII",
          "PIRAMIDES",
          "PITIS",
          "PLAZA DE CASTILLA",
          "PLAZA DE ESPAÑA",
          "PLAZA ELIPTICA",
          "PORTAZGO",
          "PRADILLO",
          "PRINCIPE DE VERGARA",
          "PRINCIPE PIO",
          "PROSPERIDAD",
          "PUEBLO NUEVO",
          "PUENTE DE VALLECAS",
          "PUERTA DE ARGANDA",
          "PUERTA DE TOLEDO",
          "PUERTA DEL ANGEL",
          "PUERTA DEL SUR",
          "QUEVEDO",
          "QUINTANA",
          "REPUBLICA ARGENTINA",
          "RETIRO",
          "REYES CATOLICOS",
          "RIOS ROSAS",
          "RIVAS FUTURA",
          "RIVAS URBANIZACIONES",
          "RIVAS VACIAMADRID",
          "RONDA DE LA COMUNICACION",
          "RUBEN DARIO",
          "SAINZ DE BARANDA",
          "SAN BERNARDO",
          "SAN BLAS",
          "SAN CIPRIANO",
          "SAN CRISTOBAL",
          "SAN FERMIN-ORCASUR",
          "SAN FERNANDO",
          "SAN FRANCISCO",
          "SAN LORENZO",
          "SAN NICASIO",
          "SANTIAGO BERNABEU",
          "SANTO DOMINGO",
          "SERRANO",
          "SEVILLA",
          "SIERRA DE GUADALUPE",
          "SIMANCAS",
          "SOL",
          "SUANZES",
          "TETUAN",
          "TIRSO DE MOLINA",
          "TORRE ARIAS",
          "TRES OLIVOS",
          "TRIBUNAL",
          "UNIVERSIDAD REY JUAN CARLOS",
          "URGEL",
          "USERA",
          "VALDEACEDERAS",
          "VALDEBERNARDO",
          "VALDECARROS",
          "VALDEZARZA",
          "VELAZQUEZ",
          "VENTAS",
          "VENTILLA",
          "VENTURA RODRIGUEZ",
          "VICALVARO",
          "VICENTE ALEIXANDRE",
          "VILLA DE VALLECAS",
          "VILLAVERDE ALTO",
          "VILLAVERDE BAJO CRUCE",
          "VINATEROS",
          "VISTA ALEGRE"
         ],
         "lat": [
          40.3808336147312,
          40.4038716437299,
          40.4686442368363,
          40.491766772326,
          40.4577886285205,
          40.3500843402794,
          40.448248388161,
          40.384093527174,
          40.4383753761104,
          40.3008139619265,
          40.42852602883,
          40.4182926946444,
          40.4099260169851,
          40.3897710121487,
          40.3856286195639,
          40.4503319759943,
          40.41246356569,
          40.4702177203907,
          40.303669277437,
          40.3931027049207,
          40.4306609302246,
          40.2887417691494,
          40.4052238336675,
          40.4558324918715,
          40.4302055301581,
          40.4065868145425,
          40.4801026115457,
          40.4380325773816,
          40.4223935838227,
          40.4535426348993,
          40.3836394376112,
          40.4768153611651,
          40.4192197861148,
          40.4757741638309,
          40.4390993999931,
          40.4768890688056,
          40.422496870096,
          40.4078602084024,
          40.5544232071442,
          40.4804129321054,
          40.428850304442,
          40.3915628772158,
          40.4200832543965,
          40.3948077574021,
          40.4387025079451,
          40.4638105369802,
          40.4494208443657,
          40.387827019968,
          40.3720024216854,
          40.3927018994635,
          40.4393374952451,
          40.4032422708359,
          40.3266027213842,
          40.4721031246127,
          40.4229331780798,
          40.359585428137,
          40.4380484084201,
          40.4435646769462,
          40.4574897504124,
          40.4254191821374,
          40.3969754264342,
          40.4514484326224,
          40.4069679504754,
          40.3723823703667,
          40.2932438463166,
          40.4237362059777,
          40.4442658811033,
          40.4469745969046,
          40.3777068887697,
          40.4584214192787,
          40.3999047785544,
          40.4329476824461,
          40.4676258515088,
          40.3290723674829,
          40.4534683327049,
          40.4318932920946,
          40.3366382437775,
          40.3186231578854,
          40.4051272711625,
          40.3905725578316,
          40.4594472971918,
          40.4088515983755,
          40.4333934840999,
          40.4542880258282,
          40.4114722192065,
          40.3843857971757,
          40.4638931513133,
          40.4564818207783,
          40.4950851624077,
          40.2826757751405,
          40.4284231905451,
          40.3099279090417,
          40.4245483896706,
          40.4199866177357,
          40.438250994429,
          40.4463660791437,
          40.4177694852412,
          40.484662780153,
          40.475371717959,
          40.375031361291,
          40.2857554858776,
          40.3165242816456,
          40.4176100182185,
          40.5597694481961,
          40.3217702700883,
          40.4183912105898,
          40.4349234782849,
          40.4390682066327,
          40.422954804338,
          40.349848097734,
          40.3118023648563,
          40.3347491078306,
          40.4236132906806,
          40.4266172349772,
          40.3579531289265,
          40.3701916631975,
          40.5275996223624,
          40.4112803286869,
          40.5319556473465,
          40.3642240118116,
          40.3190157307928,
          40.4251434841391,
          40.4850150260736,
          40.4164141109915,
          40.3992296247106,
          40.4329881279398,
          40.4237484310442,
          40.3632280247659,
          40.5083301210639,
          40.4085109428559,
          40.3289852309455,
          40.3911577579403,
          40.4291685202558,
          40.2968126640553,
          40.3242270149373,
          40.4050996506522,
          40.4768742266936,
          40.4279044798375,
          40.5504799808972,
          40.3090300558365,
          40.4693837871887,
          40.5410235621335,
          40.3973562903245,
          40.395375599391,
          40.4044505222636,
          40.3873157470567,
          40.4910977848675,
          40.4350235151956,
          40.505252159111,
          40.3285002183315,
          40.4248422335784,
          40.3955381621572,
          40.4466212151825,
          40.4301298212657,
          40.4228884246446,
          40.3869044042556,
          40.4180929194931,
          40.3884647630932,
          40.4012617890482,
          40.4996549120517,
          40.4030722839783,
          40.3758686366567,
          40.4394476023403,
          40.2868358005326,
          40.4771142938967,
          40.2851756964955,
          40.3496872815222,
          40.3458943804137,
          40.4005115495727,
          40.4759235202497,
          40.480139978151,
          40.4680013620738,
          40.4630027605113,
          40.4025981654589,
          40.4951058423757,
          40.4668965341419,
          40.4240868846098,
          40.3846000554076,
          40.392664108961,
          40.3216769647447,
          40.4229448617607,
          40.4210688443836,
          40.4441889741445,
          40.4356585154991,
          40.3981921510029,
          40.4013157821612,
          40.4070357544619,
          40.4138988943963,
          40.3452428742768,
          40.4332173151576,
          40.4335849416495,
          40.44379456449,
          40.4203067175233,
          40.5503748336655,
          40.4419753563559,
          40.3413421540536,
          40.3667715025775,
          40.3283709218929,
          40.5155346471774,
          40.4331579372096,
          40.4150284968071,
          40.4300127626608,
          40.4279919067674,
          40.4038117574594,
          40.3415419360096,
          40.3699909305509,
          40.4244122496606,
          40.3735988410558,
          40.4744707395869,
          40.336163147896,
          40.4515891795258,
          40.4213154081332,
          40.425432159419,
          40.4180507481241,
          40.3821642503006,
          40.4279923730252,
          40.416876060894,
          40.4408512430777,
          40.4605518826648,
          40.4123480941102,
          40.4437432964146,
          40.501204627482,
          40.4261853955902,
          40.3351229765986,
          40.3933517684562,
          40.3870966932697,
          40.4644241785987,
          40.400047129618,
          40.3600681331852,
          40.4648235328361,
          40.4250325508648,
          40.4308848031949,
          40.4694353769873,
          40.4270873644311,
          40.4042159164034,
          40.4464363993485,
          40.3795986114191,
          40.3412286568915,
          40.3508947639615,
          40.4102399277996,
          40.3888470257572
         ],
         "legendgroup": "",
         "lon": [
          -3.72790024912171,
          -3.70664108607519,
          -3.56953825594321,
          -3.59324559721343,
          -3.58752092904349,
          -3.83177862063198,
          -3.66790615299561,
          -3.69788139765522,
          -3.69924564323726,
          -3.73663697171246,
          -3.69643188600389,
          -3.62350600154867,
          -3.73893618157226,
          -3.64521654904283,
          -3.76080381070444,
          -3.70331420927578,
          -3.69937296334489,
          -3.71769485524122,
          -3.44751896078065,
          -3.68864034744709,
          -3.71596265109483,
          -3.75682335666738,
          -3.64181233777473,
          -3.65618121809782,
          -3.64105571498423,
          -3.68937811076585,
          -3.71839825221866,
          -3.67663955532626,
          -3.61206460968115,
          -3.66118199968261,
          -3.78392294643938,
          -3.67636744147116,
          -3.69496510558138,
          -3.58252790979637,
          -3.65200400129475,
          -3.70316450384176,
          -3.56918847026566,
          -3.75310993717595,
          -3.63512602371204,
          -3.685849695579,
          -3.70113817556514,
          -3.6539061229837,
          -3.70566477670052,
          -3.76812813678741,
          -3.70488898865674,
          -3.63559546398109,
          -3.60816032312032,
          -3.74487052104138,
          -3.75190634426727,
          -3.74099367671356,
          -3.67215160132978,
          -3.7610136676265,
          -3.75942499130863,
          -3.68259088054998,
          -3.69761659244378,
          -3.69362644417066,
          -3.6381575883455,
          -3.72678481009787,
          -3.67693905940289,
          -3.69100739257143,
          -3.77461625619616,
          -3.67738012287591,
          -3.67040806723398,
          -3.61884135012454,
          -3.74576104044338,
          -3.56119234949966,
          -3.67821410967105,
          -3.70386869928601,
          -3.79151519987357,
          -3.6898507512138,
          -3.69419961603634,
          -3.67293856677242,
          -3.6791705524779,
          -3.72963318048934,
          -3.59401165769579,
          -3.65757254725966,
          -3.74018488291484,
          -3.70985404230006,
          -3.70268049977228,
          -3.76534787557234,
          -3.64581718003963,
          -3.69248727105058,
          -3.60015365421252,
          -3.70302295994985,
          -3.66178527076064,
          -3.75121118478282,
          -3.61620468224152,
          -3.7123866721983,
          -3.69283123100657,
          -3.79890690078202,
          -3.63329946572732,
          -3.734025028929,
          -3.67591017618596,
          -3.70180393013566,
          -3.69148286211901,
          -3.71229403706057,
          -3.52717835279042,
          -3.70751021303079,
          -3.65257261134101,
          -3.69585469244456,
          -3.81641680868562,
          -3.87471247771921,
          -3.53453497209821,
          -3.61145473384219,
          -3.76797304730462,
          -3.67857510552646,
          -3.69897999234847,
          -3.71372864479935,
          -3.52549376489887,
          -3.80720128436728,
          -3.72224012270444,
          -3.75265895099191,
          -3.63914233036257,
          -3.65051891390286,
          -3.777825849896,
          -3.61346348307526,
          -3.65859208713804,
          -3.70816086851901,
          -3.63555952271399,
          -3.75690271058812,
          -3.47744735058845,
          -3.54792383333825,
          -3.72304554155022,
          -3.73563105937362,
          -3.74428871805663,
          -3.60787951427632,
          -3.60330559556744,
          -3.59953268972882,
          -3.66944258328346,
          -3.70090412320048,
          -3.77153699668843,
          -3.69505136534669,
          -3.67540982227869,
          -3.83768345712019,
          -3.7181978645244,
          -3.74533695945151,
          -3.66289547589112,
          -3.66920518071164,
          -3.64687944950569,
          -3.86402119722615,
          -3.63832022322047,
          -3.63738494117669,
          -3.71596007651405,
          -3.67814150708304,
          -3.68097941707577,
          -3.63950990063064,
          -3.71634448229921,
          -3.7194506192407,
          -3.69575069505638,
          -3.86354217563866,
          -3.70741904261363,
          -3.66414170148567,
          -3.69240645851146,
          -3.67936371945562,
          -3.66859514629195,
          -3.72313362116361,
          -3.70941860871968,
          -3.73132331241503,
          -3.67513655621334,
          -3.70908148055736,
          -3.69423268407983,
          -3.73416885653047,
          -3.66297058086922,
          -3.7869740434575,
          -3.64524200216563,
          -3.80632299228354,
          -3.82119573255216,
          -3.84933861659997,
          -3.63512255629341,
          -3.71582415791248,
          -3.66680448144828,
          -3.64866836052012,
          -3.67579015001895,
          -3.71137712281232,
          -3.72589123290808,
          -3.68908610432808,
          -3.70969871159774,
          -3.71837055781195,
          -3.65868242534443,
          -3.86488940297031,
          -3.68012268104369,
          -3.72032355914226,
          -3.67481890299206,
          -3.64282293725217,
          -3.66905899947859,
          -3.59597530294796,
          -3.71104645076763,
          -3.72724045181543,
          -3.81211073504745,
          -3.70433286125026,
          -3.64736224209832,
          -3.68406186705705,
          -3.68624471917784,
          -3.62339941044202,
          -3.70132848117729,
          -3.52478901227188,
          -3.54727580674555,
          -3.52059752095372,
          -3.66276510350324,
          -3.68954159857549,
          -3.66951374370264,
          -3.70556993325102,
          -3.61546907625776,
          -3.6023940495699,
          -3.69318029918632,
          -3.6941764145037,
          -3.53541452255171,
          -3.73910292919002,
          -3.6395772765646,
          -3.77587362530074,
          -3.69037934673485,
          -3.70795527665699,
          -3.68663043638334,
          -3.69925113804034,
          -3.62471747014878,
          -3.62572167294121,
          -3.70326164857528,
          -3.62683974417714,
          -3.69824989397233,
          -3.70465526879971,
          -3.61699470593882,
          -3.69520245046674,
          -3.70109984950459,
          -3.87217960642448,
          -3.72360482429366,
          -3.70689564278932,
          -3.69506203750875,
          -3.62155915980853,
          -3.59316035499877,
          -3.71597212685142,
          -3.6829181480862,
          -3.66360584172735,
          -3.69588332976518,
          -3.71341309670545,
          -3.6088588260062,
          -3.71942671196889,
          -3.62129648488235,
          -3.71199027086867,
          -3.69264894181344,
          -3.65273420710476,
          -3.73982455000658
         ],
         "marker": {
          "color": [
           296,
           28,
           585,
           585,
           581,
           657,
           99,
           325,
           134,
           726,
           418,
           567,
           265,
           346,
           256,
           118,
           20,
           208,
           889,
           40,
           273,
           731,
           385,
           401,
           420,
           33,
           175,
           412,
           571,
           401,
           240,
           83,
           10,
           575,
           408,
           198,
           902,
           224,
           627,
           195,
           277,
           345,
           26,
           251,
           260,
           455,
           547,
           288,
           306,
           287,
           103,
           448,
           767,
           172,
           4,
           467,
           415,
           219,
           188,
           140,
           249,
           97,
           57,
           502,
           731,
           898,
           97,
           353,
           233,
           92,
           39,
           211,
           88,
           705,
           582,
           410,
           763,
           709,
           22,
           254,
           458,
           23,
           555,
           111,
           379,
           298,
           578,
           217,
           162,
           699,
           423,
           722,
           150,
           28,
           265,
           242,
           930,
           185,
           445,
           326,
           689,
           802,
           905,
           621,
           770,
           48,
           133,
           126,
           929,
           655,
           716,
           756,
           424,
           426,
           740,
           512,
           593,
           19,
           598,
           305,
           886,
           899,
           172,
           224,
           264,
           566,
           572,
           515,
           152,
           20,
           751,
           79,
           72,
           678,
           707,
           262,
           442,
           152,
           588,
           808,
           904,
           594,
           276,
           44,
           60,
           348,
           159,
           453,
           145,
           787,
           7,
           351,
           360,
           138,
           78,
           285,
           36,
           566,
           127,
           160,
           30,
           302,
           69,
           694,
           446,
           691,
           653,
           651,
           394,
           178,
           794,
           449,
           90,
           27,
           158,
           279,
           238,
           594,
           358,
           795,
           150,
           690,
           97,
           828,
           351,
           531,
           22,
           268,
           1308,
           138,
           413,
           96,
           47,
           629,
           129,
           916,
           914,
           918,
           153,
           135,
           112,
           276,
           564,
           531,
           484,
           336,
           929,
           307,
           450,
           747,
           96,
           12,
           70,
           15,
           350,
           561,
           42,
           550,
           112,
           19,
           545,
           148,
           7,
           782,
           284,
           316,
           112,
           522,
           517,
           210,
           74,
           146,
           106,
           6,
           526,
           221,
           500,
           484,
           481,
           380,
           289
          ],
          "coloraxis": "coloraxis",
          "size": 8
         },
         "mode": "markers",
         "name": "",
         "showlegend": false,
         "subplot": "mapbox",
         "type": "scattermapbox"
        }
       ],
       "layout": {
        "coloraxis": {
         "colorbar": {
          "title": {
           "text": "ENCUESTADOMICILIARIA"
          }
         },
         "colorscale": [
          [
           0,
           "rgb(253, 237, 176)"
          ],
          [
           0.09090909090909091,
           "rgb(250, 205, 145)"
          ],
          [
           0.18181818181818182,
           "rgb(246, 173, 119)"
          ],
          [
           0.2727272727272727,
           "rgb(240, 142, 98)"
          ],
          [
           0.36363636363636365,
           "rgb(231, 109, 84)"
          ],
          [
           0.45454545454545453,
           "rgb(216, 80, 83)"
          ],
          [
           0.5454545454545454,
           "rgb(195, 56, 90)"
          ],
          [
           0.6363636363636364,
           "rgb(168, 40, 96)"
          ],
          [
           0.7272727272727273,
           "rgb(138, 29, 99)"
          ],
          [
           0.8181818181818182,
           "rgb(107, 24, 93)"
          ],
          [
           0.9090909090909091,
           "rgb(76, 21, 80)"
          ],
          [
           1,
           "rgb(47, 15, 61)"
          ]
         ]
        },
        "legend": {
         "tracegroupgap": 0
        },
        "mapbox": {
         "center": {
          "lat": 40.41464064594003,
          "lon": -3.687291669282285
         },
         "domain": {
          "x": [
           0,
           1
          ],
          "y": [
           0,
           1
          ]
         },
         "style": "carto-positron",
         "zoom": 10
        },
        "margin": {
         "b": 0,
         "l": 0,
         "r": 0,
         "t": 0
        },
        "template": {
         "data": {
          "bar": [
           {
            "error_x": {
             "color": "#2a3f5f"
            },
            "error_y": {
             "color": "#2a3f5f"
            },
            "marker": {
             "line": {
              "color": "#E5ECF6",
              "width": 0.5
             },
             "pattern": {
              "fillmode": "overlay",
              "size": 10,
              "solidity": 0.2
             }
            },
            "type": "bar"
           }
          ],
          "barpolar": [
           {
            "marker": {
             "line": {
              "color": "#E5ECF6",
              "width": 0.5
             },
             "pattern": {
              "fillmode": "overlay",
              "size": 10,
              "solidity": 0.2
             }
            },
            "type": "barpolar"
           }
          ],
          "carpet": [
           {
            "aaxis": {
             "endlinecolor": "#2a3f5f",
             "gridcolor": "white",
             "linecolor": "white",
             "minorgridcolor": "white",
             "startlinecolor": "#2a3f5f"
            },
            "baxis": {
             "endlinecolor": "#2a3f5f",
             "gridcolor": "white",
             "linecolor": "white",
             "minorgridcolor": "white",
             "startlinecolor": "#2a3f5f"
            },
            "type": "carpet"
           }
          ],
          "choropleth": [
           {
            "colorbar": {
             "outlinewidth": 0,
             "ticks": ""
            },
            "type": "choropleth"
           }
          ],
          "contour": [
           {
            "colorbar": {
             "outlinewidth": 0,
             "ticks": ""
            },
            "colorscale": [
             [
              0,
              "#0d0887"
             ],
             [
              0.1111111111111111,
              "#46039f"
             ],
             [
              0.2222222222222222,
              "#7201a8"
             ],
             [
              0.3333333333333333,
              "#9c179e"
             ],
             [
              0.4444444444444444,
              "#bd3786"
             ],
             [
              0.5555555555555556,
              "#d8576b"
             ],
             [
              0.6666666666666666,
              "#ed7953"
             ],
             [
              0.7777777777777778,
              "#fb9f3a"
             ],
             [
              0.8888888888888888,
              "#fdca26"
             ],
             [
              1,
              "#f0f921"
             ]
            ],
            "type": "contour"
           }
          ],
          "contourcarpet": [
           {
            "colorbar": {
             "outlinewidth": 0,
             "ticks": ""
            },
            "type": "contourcarpet"
           }
          ],
          "heatmap": [
           {
            "colorbar": {
             "outlinewidth": 0,
             "ticks": ""
            },
            "colorscale": [
             [
              0,
              "#0d0887"
             ],
             [
              0.1111111111111111,
              "#46039f"
             ],
             [
              0.2222222222222222,
              "#7201a8"
             ],
             [
              0.3333333333333333,
              "#9c179e"
             ],
             [
              0.4444444444444444,
              "#bd3786"
             ],
             [
              0.5555555555555556,
              "#d8576b"
             ],
             [
              0.6666666666666666,
              "#ed7953"
             ],
             [
              0.7777777777777778,
              "#fb9f3a"
             ],
             [
              0.8888888888888888,
              "#fdca26"
             ],
             [
              1,
              "#f0f921"
             ]
            ],
            "type": "heatmap"
           }
          ],
          "heatmapgl": [
           {
            "colorbar": {
             "outlinewidth": 0,
             "ticks": ""
            },
            "colorscale": [
             [
              0,
              "#0d0887"
             ],
             [
              0.1111111111111111,
              "#46039f"
             ],
             [
              0.2222222222222222,
              "#7201a8"
             ],
             [
              0.3333333333333333,
              "#9c179e"
             ],
             [
              0.4444444444444444,
              "#bd3786"
             ],
             [
              0.5555555555555556,
              "#d8576b"
             ],
             [
              0.6666666666666666,
              "#ed7953"
             ],
             [
              0.7777777777777778,
              "#fb9f3a"
             ],
             [
              0.8888888888888888,
              "#fdca26"
             ],
             [
              1,
              "#f0f921"
             ]
            ],
            "type": "heatmapgl"
           }
          ],
          "histogram": [
           {
            "marker": {
             "pattern": {
              "fillmode": "overlay",
              "size": 10,
              "solidity": 0.2
             }
            },
            "type": "histogram"
           }
          ],
          "histogram2d": [
           {
            "colorbar": {
             "outlinewidth": 0,
             "ticks": ""
            },
            "colorscale": [
             [
              0,
              "#0d0887"
             ],
             [
              0.1111111111111111,
              "#46039f"
             ],
             [
              0.2222222222222222,
              "#7201a8"
             ],
             [
              0.3333333333333333,
              "#9c179e"
             ],
             [
              0.4444444444444444,
              "#bd3786"
             ],
             [
              0.5555555555555556,
              "#d8576b"
             ],
             [
              0.6666666666666666,
              "#ed7953"
             ],
             [
              0.7777777777777778,
              "#fb9f3a"
             ],
             [
              0.8888888888888888,
              "#fdca26"
             ],
             [
              1,
              "#f0f921"
             ]
            ],
            "type": "histogram2d"
           }
          ],
          "histogram2dcontour": [
           {
            "colorbar": {
             "outlinewidth": 0,
             "ticks": ""
            },
            "colorscale": [
             [
              0,
              "#0d0887"
             ],
             [
              0.1111111111111111,
              "#46039f"
             ],
             [
              0.2222222222222222,
              "#7201a8"
             ],
             [
              0.3333333333333333,
              "#9c179e"
             ],
             [
              0.4444444444444444,
              "#bd3786"
             ],
             [
              0.5555555555555556,
              "#d8576b"
             ],
             [
              0.6666666666666666,
              "#ed7953"
             ],
             [
              0.7777777777777778,
              "#fb9f3a"
             ],
             [
              0.8888888888888888,
              "#fdca26"
             ],
             [
              1,
              "#f0f921"
             ]
            ],
            "type": "histogram2dcontour"
           }
          ],
          "mesh3d": [
           {
            "colorbar": {
             "outlinewidth": 0,
             "ticks": ""
            },
            "type": "mesh3d"
           }
          ],
          "parcoords": [
           {
            "line": {
             "colorbar": {
              "outlinewidth": 0,
              "ticks": ""
             }
            },
            "type": "parcoords"
           }
          ],
          "pie": [
           {
            "automargin": true,
            "type": "pie"
           }
          ],
          "scatter": [
           {
            "fillpattern": {
             "fillmode": "overlay",
             "size": 10,
             "solidity": 0.2
            },
            "type": "scatter"
           }
          ],
          "scatter3d": [
           {
            "line": {
             "colorbar": {
              "outlinewidth": 0,
              "ticks": ""
             }
            },
            "marker": {
             "colorbar": {
              "outlinewidth": 0,
              "ticks": ""
             }
            },
            "type": "scatter3d"
           }
          ],
          "scattercarpet": [
           {
            "marker": {
             "colorbar": {
              "outlinewidth": 0,
              "ticks": ""
             }
            },
            "type": "scattercarpet"
           }
          ],
          "scattergeo": [
           {
            "marker": {
             "colorbar": {
              "outlinewidth": 0,
              "ticks": ""
             }
            },
            "type": "scattergeo"
           }
          ],
          "scattergl": [
           {
            "marker": {
             "colorbar": {
              "outlinewidth": 0,
              "ticks": ""
             }
            },
            "type": "scattergl"
           }
          ],
          "scattermapbox": [
           {
            "marker": {
             "colorbar": {
              "outlinewidth": 0,
              "ticks": ""
             }
            },
            "type": "scattermapbox"
           }
          ],
          "scatterpolar": [
           {
            "marker": {
             "colorbar": {
              "outlinewidth": 0,
              "ticks": ""
             }
            },
            "type": "scatterpolar"
           }
          ],
          "scatterpolargl": [
           {
            "marker": {
             "colorbar": {
              "outlinewidth": 0,
              "ticks": ""
             }
            },
            "type": "scatterpolargl"
           }
          ],
          "scatterternary": [
           {
            "marker": {
             "colorbar": {
              "outlinewidth": 0,
              "ticks": ""
             }
            },
            "type": "scatterternary"
           }
          ],
          "surface": [
           {
            "colorbar": {
             "outlinewidth": 0,
             "ticks": ""
            },
            "colorscale": [
             [
              0,
              "#0d0887"
             ],
             [
              0.1111111111111111,
              "#46039f"
             ],
             [
              0.2222222222222222,
              "#7201a8"
             ],
             [
              0.3333333333333333,
              "#9c179e"
             ],
             [
              0.4444444444444444,
              "#bd3786"
             ],
             [
              0.5555555555555556,
              "#d8576b"
             ],
             [
              0.6666666666666666,
              "#ed7953"
             ],
             [
              0.7777777777777778,
              "#fb9f3a"
             ],
             [
              0.8888888888888888,
              "#fdca26"
             ],
             [
              1,
              "#f0f921"
             ]
            ],
            "type": "surface"
           }
          ],
          "table": [
           {
            "cells": {
             "fill": {
              "color": "#EBF0F8"
             },
             "line": {
              "color": "white"
             }
            },
            "header": {
             "fill": {
              "color": "#C8D4E3"
             },
             "line": {
              "color": "white"
             }
            },
            "type": "table"
           }
          ]
         },
         "layout": {
          "annotationdefaults": {
           "arrowcolor": "#2a3f5f",
           "arrowhead": 0,
           "arrowwidth": 1
          },
          "autotypenumbers": "strict",
          "coloraxis": {
           "colorbar": {
            "outlinewidth": 0,
            "ticks": ""
           }
          },
          "colorscale": {
           "diverging": [
            [
             0,
             "#8e0152"
            ],
            [
             0.1,
             "#c51b7d"
            ],
            [
             0.2,
             "#de77ae"
            ],
            [
             0.3,
             "#f1b6da"
            ],
            [
             0.4,
             "#fde0ef"
            ],
            [
             0.5,
             "#f7f7f7"
            ],
            [
             0.6,
             "#e6f5d0"
            ],
            [
             0.7,
             "#b8e186"
            ],
            [
             0.8,
             "#7fbc41"
            ],
            [
             0.9,
             "#4d9221"
            ],
            [
             1,
             "#276419"
            ]
           ],
           "sequential": [
            [
             0,
             "#0d0887"
            ],
            [
             0.1111111111111111,
             "#46039f"
            ],
            [
             0.2222222222222222,
             "#7201a8"
            ],
            [
             0.3333333333333333,
             "#9c179e"
            ],
            [
             0.4444444444444444,
             "#bd3786"
            ],
            [
             0.5555555555555556,
             "#d8576b"
            ],
            [
             0.6666666666666666,
             "#ed7953"
            ],
            [
             0.7777777777777778,
             "#fb9f3a"
            ],
            [
             0.8888888888888888,
             "#fdca26"
            ],
            [
             1,
             "#f0f921"
            ]
           ],
           "sequentialminus": [
            [
             0,
             "#0d0887"
            ],
            [
             0.1111111111111111,
             "#46039f"
            ],
            [
             0.2222222222222222,
             "#7201a8"
            ],
            [
             0.3333333333333333,
             "#9c179e"
            ],
            [
             0.4444444444444444,
             "#bd3786"
            ],
            [
             0.5555555555555556,
             "#d8576b"
            ],
            [
             0.6666666666666666,
             "#ed7953"
            ],
            [
             0.7777777777777778,
             "#fb9f3a"
            ],
            [
             0.8888888888888888,
             "#fdca26"
            ],
            [
             1,
             "#f0f921"
            ]
           ]
          },
          "colorway": [
           "#636efa",
           "#EF553B",
           "#00cc96",
           "#ab63fa",
           "#FFA15A",
           "#19d3f3",
           "#FF6692",
           "#B6E880",
           "#FF97FF",
           "#FECB52"
          ],
          "font": {
           "color": "#2a3f5f"
          },
          "geo": {
           "bgcolor": "white",
           "lakecolor": "white",
           "landcolor": "#E5ECF6",
           "showlakes": true,
           "showland": true,
           "subunitcolor": "white"
          },
          "hoverlabel": {
           "align": "left"
          },
          "hovermode": "closest",
          "mapbox": {
           "style": "light"
          },
          "paper_bgcolor": "white",
          "plot_bgcolor": "#E5ECF6",
          "polar": {
           "angularaxis": {
            "gridcolor": "white",
            "linecolor": "white",
            "ticks": ""
           },
           "bgcolor": "#E5ECF6",
           "radialaxis": {
            "gridcolor": "white",
            "linecolor": "white",
            "ticks": ""
           }
          },
          "scene": {
           "xaxis": {
            "backgroundcolor": "#E5ECF6",
            "gridcolor": "white",
            "gridwidth": 2,
            "linecolor": "white",
            "showbackground": true,
            "ticks": "",
            "zerolinecolor": "white"
           },
           "yaxis": {
            "backgroundcolor": "#E5ECF6",
            "gridcolor": "white",
            "gridwidth": 2,
            "linecolor": "white",
            "showbackground": true,
            "ticks": "",
            "zerolinecolor": "white"
           },
           "zaxis": {
            "backgroundcolor": "#E5ECF6",
            "gridcolor": "white",
            "gridwidth": 2,
            "linecolor": "white",
            "showbackground": true,
            "ticks": "",
            "zerolinecolor": "white"
           }
          },
          "shapedefaults": {
           "line": {
            "color": "#2a3f5f"
           }
          },
          "ternary": {
           "aaxis": {
            "gridcolor": "white",
            "linecolor": "white",
            "ticks": ""
           },
           "baxis": {
            "gridcolor": "white",
            "linecolor": "white",
            "ticks": ""
           },
           "bgcolor": "#E5ECF6",
           "caxis": {
            "gridcolor": "white",
            "linecolor": "white",
            "ticks": ""
           }
          },
          "title": {
           "x": 0.05
          },
          "xaxis": {
           "automargin": true,
           "gridcolor": "white",
           "linecolor": "white",
           "ticks": "",
           "title": {
            "standoff": 15
           },
           "zerolinecolor": "white",
           "zerolinewidth": 2
          },
          "yaxis": {
           "automargin": true,
           "gridcolor": "white",
           "linecolor": "white",
           "ticks": "",
           "title": {
            "standoff": 15
           },
           "zerolinecolor": "white",
           "zerolinewidth": 2
          }
         }
        }
       }
      },
      "text/html": [
       "<div>                            <div id=\"1551e2ec-f654-4e77-9783-7cd6d7681886\" class=\"plotly-graph-div\" style=\"height:525px; width:100%;\"></div>            <script type=\"text/javascript\">                require([\"plotly\"], function(Plotly) {                    window.PLOTLYENV=window.PLOTLYENV || {};                                    if (document.getElementById(\"1551e2ec-f654-4e77-9783-7cd6d7681886\")) {                    Plotly.newPlot(                        \"1551e2ec-f654-4e77-9783-7cd6d7681886\",                        [{\"hovertemplate\":\"<b>%{hovertext}</b><br><br>latitude=%{lat}<br>longitude=%{lon}<br>ENCUESTADOMICILIARIA=%{marker.color}<extra></extra>\",\"hovertext\":[\"ABRANTES\",\"ACACIAS\",\"AEROPUERTO T1 T2 T3\",\"AEROPUERTO T4\",\"ALAMEDA DE OSUNA\",\"ALCORCON CENTRAL\",\"ALFONSO XIII\",\"ALMENDRALES\",\"ALONSO CANO\",\"ALONSO DE MENDOZA\",\"ALONSO MARTINEZ\",\"ALSACIA\",\"ALTO DE EXTREMADURA\",\"ALTO DEL ARENAL\",\"ALUCHE\",\"ALVARADO\",\"ANTON MARTIN\",\"ANTONIO MACHADO\",\"ARGANDA DEL REY\",\"ARGANZUELA-PLANETARIO\",\"ARG\\u00dcELLES\",\"ARROYO CULEBRO\",\"ARTILLEROS\",\"ARTURO SORIA\",\"ASCAO\",\"ATOCHA RENFE\",\"AVDA. DE LA ILUSTRACION\",\"AVENIDA DE AMERICA\",\"AVENIDA DE GUADALAJARA\",\"AVENIDA DE LA PAZ\",\"AVIACION ESPA\\u00d1OLA\",\"BAMBU\",\"BANCO DE ESPA\\u00d1A\",\"BARAJAS\",\"BARRIO DE LA CONCEPCION\",\"BARRIO DEL PILAR\",\"BARRIO DEL PUERTO\",\"BATAN\",\"BAUNATAL\",\"BEGO\\u00d1A\",\"BILBAO\",\"BUENOS AIRES\",\"CALLAO\",\"CAMPAMENTO\",\"CANAL\",\"CANILLAS\",\"CANILLEJAS\",\"CARABANCHEL\",\"CARABANCHEL ALTO\",\"CARPETANA\",\"CARTAGENA\",\"CASA DE CAMPO\",\"CASA DEL RELOJ\",\"CHAMARTIN\",\"CHUECA\",\"CIUDAD DE LOS ANGELES\",\"CIUDAD LINEAL\",\"CIUDAD UNIVERSITARIA\",\"COLOMBIA\",\"COLON\",\"COLONIA JARDIN\",\"CONCHA ESPINA\",\"CONDE DE CASAL\",\"CONGOSTO\",\"CONSERVATORIO\",\"COSLADA CENTRAL\",\"CRUZ DEL RAYO\",\"CUATRO CAMINOS\",\"CUATRO VIENTOS\",\"CUZCO\",\"DELICIAS\",\"DIEGO DE LEON\",\"DUQUE DE PASTRANA\",\"EL BERCIAL\",\"EL CAPRICHO\",\"EL CARMEN\",\"EL CARRASCAL\",\"EL CASAR\",\"EMBAJADORES\",\"EMPALME\",\"ESPERANZA\",\"ESTACI\\u00d3N DEL ARTE\",\"ESTADIO METROPOLITANO\",\"ESTRECHO\",\"ESTRELLA\",\"EUGENIA DE MONTIJO\",\"FERIA DE MADRID\",\"FRANCOS RODRIGUEZ\",\"FUENCARRAL\",\"FUENLABRADA CENTRAL\",\"GARCIA NOBLEJAS\",\"GETAFE CENTRAL\",\"GOYA\",\"GRAN VIA\",\"GREGORIO MARA\\u00d1ON\",\"GUZMAN EL BUENO\",\"HENARES\",\"HERRERA ORIA\",\"HORTALEZA\",\"HOSPITAL 12 DE OCTUBRE\",\"HOSPITAL DE FUENLABRADA\",\"HOSPITAL DE MOSTOLES\",\"HOSPITAL DEL HENARES\",\"HOSPITAL INFANTA SOFIA\",\"HOSPITAL SEVERO OCHOA\",\"IBIZA\",\"IGLESIA\",\"ISLAS FILIPINAS\",\"JARAMA\",\"JOAQUIN VILUMBRALES\",\"JUAN DE LA CIERVA\",\"JULIAN BESTEIRO\",\"LA ALMUDENA\",\"LA ELIPA\",\"LA FORTUNA\",\"LA GAVIA\",\"LA GRANJA\",\"LA LATINA\",\"LA MORALEJA\",\"LA PESETA\",\"LA POVEDA\",\"LA RAMBLA\",\"LACOMA\",\"LAGO\",\"LAGUNA\",\"LAS MUSAS\",\"LAS ROSAS\",\"LAS SUERTES\",\"LAS TABLAS\",\"LAVAPIES\",\"LEGANES CENTRAL\",\"LEGAZPI\",\"LISTA\",\"LORANCA\",\"LOS ESPARTALES\",\"LUCERO\",\"MANOTERAS\",\"MANUEL BECERRA\",\"MANUEL DE FALLA\",\"MANUELA MALASA\\u00d1A\",\"MAR DE CRISTAL\",\"MARQUES DE LA VALDAVIA\",\"MARQUES DE VADILLO\",\"MENDEZ ALVARO\",\"MENENDEZ PELAYO\",\"MIGUEL HERNANDEZ\",\"MIRASIERRA\",\"MONCLOA\",\"MONTECARMELO\",\"MOSTOLES CENTRAL\",\"NOVICIADO\",\"NUEVA NUMANCIA\",\"NUEVOS MINISTERIOS\",\"NU\\u00d1EZ DE BALBOA\",\"O'DONNELL\",\"OPA\\u00d1EL\",\"OPERA\",\"OPORTO\",\"PACIFICO\",\"PACO DE LUCIA\",\"PALOS DE LA FRONTERA\",\"PAN BENDITO\",\"PARQUE DE LAS AVENIDAS\",\"PARQUE DE LOS ESTADOS\",\"PARQUE DE SANTA MARIA\",\"PARQUE EUROPA\",\"PARQUE LISBOA\",\"PARQUE OESTE\",\"PAVONES\",\"PE\\u00d1AGRANDE\",\"PINAR DE CHAMARTIN\",\"PINAR DEL REY\",\"PIO XII\",\"PIRAMIDES\",\"PITIS\",\"PLAZA DE CASTILLA\",\"PLAZA DE ESPA\\u00d1A\",\"PLAZA ELIPTICA\",\"PORTAZGO\",\"PRADILLO\",\"PRINCIPE DE VERGARA\",\"PRINCIPE PIO\",\"PROSPERIDAD\",\"PUEBLO NUEVO\",\"PUENTE DE VALLECAS\",\"PUERTA DE ARGANDA\",\"PUERTA DE TOLEDO\",\"PUERTA DEL ANGEL\",\"PUERTA DEL SUR\",\"QUEVEDO\",\"QUINTANA\",\"REPUBLICA ARGENTINA\",\"RETIRO\",\"REYES CATOLICOS\",\"RIOS ROSAS\",\"RIVAS FUTURA\",\"RIVAS URBANIZACIONES\",\"RIVAS VACIAMADRID\",\"RONDA DE LA COMUNICACION\",\"RUBEN DARIO\",\"SAINZ DE BARANDA\",\"SAN BERNARDO\",\"SAN BLAS\",\"SAN CIPRIANO\",\"SAN CRISTOBAL\",\"SAN FERMIN-ORCASUR\",\"SAN FERNANDO\",\"SAN FRANCISCO\",\"SAN LORENZO\",\"SAN NICASIO\",\"SANTIAGO BERNABEU\",\"SANTO DOMINGO\",\"SERRANO\",\"SEVILLA\",\"SIERRA DE GUADALUPE\",\"SIMANCAS\",\"SOL\",\"SUANZES\",\"TETUAN\",\"TIRSO DE MOLINA\",\"TORRE ARIAS\",\"TRES OLIVOS\",\"TRIBUNAL\",\"UNIVERSIDAD REY JUAN CARLOS\",\"URGEL\",\"USERA\",\"VALDEACEDERAS\",\"VALDEBERNARDO\",\"VALDECARROS\",\"VALDEZARZA\",\"VELAZQUEZ\",\"VENTAS\",\"VENTILLA\",\"VENTURA RODRIGUEZ\",\"VICALVARO\",\"VICENTE ALEIXANDRE\",\"VILLA DE VALLECAS\",\"VILLAVERDE ALTO\",\"VILLAVERDE BAJO CRUCE\",\"VINATEROS\",\"VISTA ALEGRE\"],\"lat\":[40.3808336147312,40.4038716437299,40.4686442368363,40.491766772326,40.4577886285205,40.3500843402794,40.448248388161,40.384093527174,40.4383753761104,40.3008139619265,40.42852602883,40.4182926946444,40.4099260169851,40.3897710121487,40.3856286195639,40.4503319759943,40.41246356569,40.4702177203907,40.303669277437,40.3931027049207,40.4306609302246,40.2887417691494,40.4052238336675,40.4558324918715,40.4302055301581,40.4065868145425,40.4801026115457,40.4380325773816,40.4223935838227,40.4535426348993,40.3836394376112,40.4768153611651,40.4192197861148,40.4757741638309,40.4390993999931,40.4768890688056,40.422496870096,40.4078602084024,40.5544232071442,40.4804129321054,40.428850304442,40.3915628772158,40.4200832543965,40.3948077574021,40.4387025079451,40.4638105369802,40.4494208443657,40.387827019968,40.3720024216854,40.3927018994635,40.4393374952451,40.4032422708359,40.3266027213842,40.4721031246127,40.4229331780798,40.359585428137,40.4380484084201,40.4435646769462,40.4574897504124,40.4254191821374,40.3969754264342,40.4514484326224,40.4069679504754,40.3723823703667,40.2932438463166,40.4237362059777,40.4442658811033,40.4469745969046,40.3777068887697,40.4584214192787,40.3999047785544,40.4329476824461,40.4676258515088,40.3290723674829,40.4534683327049,40.4318932920946,40.3366382437775,40.3186231578854,40.4051272711625,40.3905725578316,40.4594472971918,40.4088515983755,40.4333934840999,40.4542880258282,40.4114722192065,40.3843857971757,40.4638931513133,40.4564818207783,40.4950851624077,40.2826757751405,40.4284231905451,40.3099279090417,40.4245483896706,40.4199866177357,40.438250994429,40.4463660791437,40.4177694852412,40.484662780153,40.475371717959,40.375031361291,40.2857554858776,40.3165242816456,40.4176100182185,40.5597694481961,40.3217702700883,40.4183912105898,40.4349234782849,40.4390682066327,40.422954804338,40.349848097734,40.3118023648563,40.3347491078306,40.4236132906806,40.4266172349772,40.3579531289265,40.3701916631975,40.5275996223624,40.4112803286869,40.5319556473465,40.3642240118116,40.3190157307928,40.4251434841391,40.4850150260736,40.4164141109915,40.3992296247106,40.4329881279398,40.4237484310442,40.3632280247659,40.5083301210639,40.4085109428559,40.3289852309455,40.3911577579403,40.4291685202558,40.2968126640553,40.3242270149373,40.4050996506522,40.4768742266936,40.4279044798375,40.5504799808972,40.3090300558365,40.4693837871887,40.5410235621335,40.3973562903245,40.395375599391,40.4044505222636,40.3873157470567,40.4910977848675,40.4350235151956,40.505252159111,40.3285002183315,40.4248422335784,40.3955381621572,40.4466212151825,40.4301298212657,40.4228884246446,40.3869044042556,40.4180929194931,40.3884647630932,40.4012617890482,40.4996549120517,40.4030722839783,40.3758686366567,40.4394476023403,40.2868358005326,40.4771142938967,40.2851756964955,40.3496872815222,40.3458943804137,40.4005115495727,40.4759235202497,40.480139978151,40.4680013620738,40.4630027605113,40.4025981654589,40.4951058423757,40.4668965341419,40.4240868846098,40.3846000554076,40.392664108961,40.3216769647447,40.4229448617607,40.4210688443836,40.4441889741445,40.4356585154991,40.3981921510029,40.4013157821612,40.4070357544619,40.4138988943963,40.3452428742768,40.4332173151576,40.4335849416495,40.44379456449,40.4203067175233,40.5503748336655,40.4419753563559,40.3413421540536,40.3667715025775,40.3283709218929,40.5155346471774,40.4331579372096,40.4150284968071,40.4300127626608,40.4279919067674,40.4038117574594,40.3415419360096,40.3699909305509,40.4244122496606,40.3735988410558,40.4744707395869,40.336163147896,40.4515891795258,40.4213154081332,40.425432159419,40.4180507481241,40.3821642503006,40.4279923730252,40.416876060894,40.4408512430777,40.4605518826648,40.4123480941102,40.4437432964146,40.501204627482,40.4261853955902,40.3351229765986,40.3933517684562,40.3870966932697,40.4644241785987,40.400047129618,40.3600681331852,40.4648235328361,40.4250325508648,40.4308848031949,40.4694353769873,40.4270873644311,40.4042159164034,40.4464363993485,40.3795986114191,40.3412286568915,40.3508947639615,40.4102399277996,40.3888470257572],\"legendgroup\":\"\",\"lon\":[-3.72790024912171,-3.70664108607519,-3.56953825594321,-3.59324559721343,-3.58752092904349,-3.83177862063198,-3.66790615299561,-3.69788139765522,-3.69924564323726,-3.73663697171246,-3.69643188600389,-3.62350600154867,-3.73893618157226,-3.64521654904283,-3.76080381070444,-3.70331420927578,-3.69937296334489,-3.71769485524122,-3.44751896078065,-3.68864034744709,-3.71596265109483,-3.75682335666738,-3.64181233777473,-3.65618121809782,-3.64105571498423,-3.68937811076585,-3.71839825221866,-3.67663955532626,-3.61206460968115,-3.66118199968261,-3.78392294643938,-3.67636744147116,-3.69496510558138,-3.58252790979637,-3.65200400129475,-3.70316450384176,-3.56918847026566,-3.75310993717595,-3.63512602371204,-3.685849695579,-3.70113817556514,-3.6539061229837,-3.70566477670052,-3.76812813678741,-3.70488898865674,-3.63559546398109,-3.60816032312032,-3.74487052104138,-3.75190634426727,-3.74099367671356,-3.67215160132978,-3.7610136676265,-3.75942499130863,-3.68259088054998,-3.69761659244378,-3.69362644417066,-3.6381575883455,-3.72678481009787,-3.67693905940289,-3.69100739257143,-3.77461625619616,-3.67738012287591,-3.67040806723398,-3.61884135012454,-3.74576104044338,-3.56119234949966,-3.67821410967105,-3.70386869928601,-3.79151519987357,-3.6898507512138,-3.69419961603634,-3.67293856677242,-3.6791705524779,-3.72963318048934,-3.59401165769579,-3.65757254725966,-3.74018488291484,-3.70985404230006,-3.70268049977228,-3.76534787557234,-3.64581718003963,-3.69248727105058,-3.60015365421252,-3.70302295994985,-3.66178527076064,-3.75121118478282,-3.61620468224152,-3.7123866721983,-3.69283123100657,-3.79890690078202,-3.63329946572732,-3.734025028929,-3.67591017618596,-3.70180393013566,-3.69148286211901,-3.71229403706057,-3.52717835279042,-3.70751021303079,-3.65257261134101,-3.69585469244456,-3.81641680868562,-3.87471247771921,-3.53453497209821,-3.61145473384219,-3.76797304730462,-3.67857510552646,-3.69897999234847,-3.71372864479935,-3.52549376489887,-3.80720128436728,-3.72224012270444,-3.75265895099191,-3.63914233036257,-3.65051891390286,-3.777825849896,-3.61346348307526,-3.65859208713804,-3.70816086851901,-3.63555952271399,-3.75690271058812,-3.47744735058845,-3.54792383333825,-3.72304554155022,-3.73563105937362,-3.74428871805663,-3.60787951427632,-3.60330559556744,-3.59953268972882,-3.66944258328346,-3.70090412320048,-3.77153699668843,-3.69505136534669,-3.67540982227869,-3.83768345712019,-3.7181978645244,-3.74533695945151,-3.66289547589112,-3.66920518071164,-3.64687944950569,-3.86402119722615,-3.63832022322047,-3.63738494117669,-3.71596007651405,-3.67814150708304,-3.68097941707577,-3.63950990063064,-3.71634448229921,-3.7194506192407,-3.69575069505638,-3.86354217563866,-3.70741904261363,-3.66414170148567,-3.69240645851146,-3.67936371945562,-3.66859514629195,-3.72313362116361,-3.70941860871968,-3.73132331241503,-3.67513655621334,-3.70908148055736,-3.69423268407983,-3.73416885653047,-3.66297058086922,-3.7869740434575,-3.64524200216563,-3.80632299228354,-3.82119573255216,-3.84933861659997,-3.63512255629341,-3.71582415791248,-3.66680448144828,-3.64866836052012,-3.67579015001895,-3.71137712281232,-3.72589123290808,-3.68908610432808,-3.70969871159774,-3.71837055781195,-3.65868242534443,-3.86488940297031,-3.68012268104369,-3.72032355914226,-3.67481890299206,-3.64282293725217,-3.66905899947859,-3.59597530294796,-3.71104645076763,-3.72724045181543,-3.81211073504745,-3.70433286125026,-3.64736224209832,-3.68406186705705,-3.68624471917784,-3.62339941044202,-3.70132848117729,-3.52478901227188,-3.54727580674555,-3.52059752095372,-3.66276510350324,-3.68954159857549,-3.66951374370264,-3.70556993325102,-3.61546907625776,-3.6023940495699,-3.69318029918632,-3.6941764145037,-3.53541452255171,-3.73910292919002,-3.6395772765646,-3.77587362530074,-3.69037934673485,-3.70795527665699,-3.68663043638334,-3.69925113804034,-3.62471747014878,-3.62572167294121,-3.70326164857528,-3.62683974417714,-3.69824989397233,-3.70465526879971,-3.61699470593882,-3.69520245046674,-3.70109984950459,-3.87217960642448,-3.72360482429366,-3.70689564278932,-3.69506203750875,-3.62155915980853,-3.59316035499877,-3.71597212685142,-3.6829181480862,-3.66360584172735,-3.69588332976518,-3.71341309670545,-3.6088588260062,-3.71942671196889,-3.62129648488235,-3.71199027086867,-3.69264894181344,-3.65273420710476,-3.73982455000658],\"marker\":{\"color\":[296,28,585,585,581,657,99,325,134,726,418,567,265,346,256,118,20,208,889,40,273,731,385,401,420,33,175,412,571,401,240,83,10,575,408,198,902,224,627,195,277,345,26,251,260,455,547,288,306,287,103,448,767,172,4,467,415,219,188,140,249,97,57,502,731,898,97,353,233,92,39,211,88,705,582,410,763,709,22,254,458,23,555,111,379,298,578,217,162,699,423,722,150,28,265,242,930,185,445,326,689,802,905,621,770,48,133,126,929,655,716,756,424,426,740,512,593,19,598,305,886,899,172,224,264,566,572,515,152,20,751,79,72,678,707,262,442,152,588,808,904,594,276,44,60,348,159,453,145,787,7,351,360,138,78,285,36,566,127,160,30,302,69,694,446,691,653,651,394,178,794,449,90,27,158,279,238,594,358,795,150,690,97,828,351,531,22,268,1308,138,413,96,47,629,129,916,914,918,153,135,112,276,564,531,484,336,929,307,450,747,96,12,70,15,350,561,42,550,112,19,545,148,7,782,284,316,112,522,517,210,74,146,106,6,526,221,500,484,481,380,289],\"coloraxis\":\"coloraxis\",\"size\":8},\"mode\":\"markers\",\"name\":\"\",\"showlegend\":false,\"subplot\":\"mapbox\",\"type\":\"scattermapbox\"}],                        {\"template\":{\"data\":{\"histogram2dcontour\":[{\"type\":\"histogram2dcontour\",\"colorbar\":{\"outlinewidth\":0,\"ticks\":\"\"},\"colorscale\":[[0.0,\"#0d0887\"],[0.1111111111111111,\"#46039f\"],[0.2222222222222222,\"#7201a8\"],[0.3333333333333333,\"#9c179e\"],[0.4444444444444444,\"#bd3786\"],[0.5555555555555556,\"#d8576b\"],[0.6666666666666666,\"#ed7953\"],[0.7777777777777778,\"#fb9f3a\"],[0.8888888888888888,\"#fdca26\"],[1.0,\"#f0f921\"]]}],\"choropleth\":[{\"type\":\"choropleth\",\"colorbar\":{\"outlinewidth\":0,\"ticks\":\"\"}}],\"histogram2d\":[{\"type\":\"histogram2d\",\"colorbar\":{\"outlinewidth\":0,\"ticks\":\"\"},\"colorscale\":[[0.0,\"#0d0887\"],[0.1111111111111111,\"#46039f\"],[0.2222222222222222,\"#7201a8\"],[0.3333333333333333,\"#9c179e\"],[0.4444444444444444,\"#bd3786\"],[0.5555555555555556,\"#d8576b\"],[0.6666666666666666,\"#ed7953\"],[0.7777777777777778,\"#fb9f3a\"],[0.8888888888888888,\"#fdca26\"],[1.0,\"#f0f921\"]]}],\"heatmap\":[{\"type\":\"heatmap\",\"colorbar\":{\"outlinewidth\":0,\"ticks\":\"\"},\"colorscale\":[[0.0,\"#0d0887\"],[0.1111111111111111,\"#46039f\"],[0.2222222222222222,\"#7201a8\"],[0.3333333333333333,\"#9c179e\"],[0.4444444444444444,\"#bd3786\"],[0.5555555555555556,\"#d8576b\"],[0.6666666666666666,\"#ed7953\"],[0.7777777777777778,\"#fb9f3a\"],[0.8888888888888888,\"#fdca26\"],[1.0,\"#f0f921\"]]}],\"heatmapgl\":[{\"type\":\"heatmapgl\",\"colorbar\":{\"outlinewidth\":0,\"ticks\":\"\"},\"colorscale\":[[0.0,\"#0d0887\"],[0.1111111111111111,\"#46039f\"],[0.2222222222222222,\"#7201a8\"],[0.3333333333333333,\"#9c179e\"],[0.4444444444444444,\"#bd3786\"],[0.5555555555555556,\"#d8576b\"],[0.6666666666666666,\"#ed7953\"],[0.7777777777777778,\"#fb9f3a\"],[0.8888888888888888,\"#fdca26\"],[1.0,\"#f0f921\"]]}],\"contourcarpet\":[{\"type\":\"contourcarpet\",\"colorbar\":{\"outlinewidth\":0,\"ticks\":\"\"}}],\"contour\":[{\"type\":\"contour\",\"colorbar\":{\"outlinewidth\":0,\"ticks\":\"\"},\"colorscale\":[[0.0,\"#0d0887\"],[0.1111111111111111,\"#46039f\"],[0.2222222222222222,\"#7201a8\"],[0.3333333333333333,\"#9c179e\"],[0.4444444444444444,\"#bd3786\"],[0.5555555555555556,\"#d8576b\"],[0.6666666666666666,\"#ed7953\"],[0.7777777777777778,\"#fb9f3a\"],[0.8888888888888888,\"#fdca26\"],[1.0,\"#f0f921\"]]}],\"surface\":[{\"type\":\"surface\",\"colorbar\":{\"outlinewidth\":0,\"ticks\":\"\"},\"colorscale\":[[0.0,\"#0d0887\"],[0.1111111111111111,\"#46039f\"],[0.2222222222222222,\"#7201a8\"],[0.3333333333333333,\"#9c179e\"],[0.4444444444444444,\"#bd3786\"],[0.5555555555555556,\"#d8576b\"],[0.6666666666666666,\"#ed7953\"],[0.7777777777777778,\"#fb9f3a\"],[0.8888888888888888,\"#fdca26\"],[1.0,\"#f0f921\"]]}],\"mesh3d\":[{\"type\":\"mesh3d\",\"colorbar\":{\"outlinewidth\":0,\"ticks\":\"\"}}],\"scatter\":[{\"fillpattern\":{\"fillmode\":\"overlay\",\"size\":10,\"solidity\":0.2},\"type\":\"scatter\"}],\"parcoords\":[{\"type\":\"parcoords\",\"line\":{\"colorbar\":{\"outlinewidth\":0,\"ticks\":\"\"}}}],\"scatterpolargl\":[{\"type\":\"scatterpolargl\",\"marker\":{\"colorbar\":{\"outlinewidth\":0,\"ticks\":\"\"}}}],\"bar\":[{\"error_x\":{\"color\":\"#2a3f5f\"},\"error_y\":{\"color\":\"#2a3f5f\"},\"marker\":{\"line\":{\"color\":\"#E5ECF6\",\"width\":0.5},\"pattern\":{\"fillmode\":\"overlay\",\"size\":10,\"solidity\":0.2}},\"type\":\"bar\"}],\"scattergeo\":[{\"type\":\"scattergeo\",\"marker\":{\"colorbar\":{\"outlinewidth\":0,\"ticks\":\"\"}}}],\"scatterpolar\":[{\"type\":\"scatterpolar\",\"marker\":{\"colorbar\":{\"outlinewidth\":0,\"ticks\":\"\"}}}],\"histogram\":[{\"marker\":{\"pattern\":{\"fillmode\":\"overlay\",\"size\":10,\"solidity\":0.2}},\"type\":\"histogram\"}],\"scattergl\":[{\"type\":\"scattergl\",\"marker\":{\"colorbar\":{\"outlinewidth\":0,\"ticks\":\"\"}}}],\"scatter3d\":[{\"type\":\"scatter3d\",\"line\":{\"colorbar\":{\"outlinewidth\":0,\"ticks\":\"\"}},\"marker\":{\"colorbar\":{\"outlinewidth\":0,\"ticks\":\"\"}}}],\"scattermapbox\":[{\"type\":\"scattermapbox\",\"marker\":{\"colorbar\":{\"outlinewidth\":0,\"ticks\":\"\"}}}],\"scatterternary\":[{\"type\":\"scatterternary\",\"marker\":{\"colorbar\":{\"outlinewidth\":0,\"ticks\":\"\"}}}],\"scattercarpet\":[{\"type\":\"scattercarpet\",\"marker\":{\"colorbar\":{\"outlinewidth\":0,\"ticks\":\"\"}}}],\"carpet\":[{\"aaxis\":{\"endlinecolor\":\"#2a3f5f\",\"gridcolor\":\"white\",\"linecolor\":\"white\",\"minorgridcolor\":\"white\",\"startlinecolor\":\"#2a3f5f\"},\"baxis\":{\"endlinecolor\":\"#2a3f5f\",\"gridcolor\":\"white\",\"linecolor\":\"white\",\"minorgridcolor\":\"white\",\"startlinecolor\":\"#2a3f5f\"},\"type\":\"carpet\"}],\"table\":[{\"cells\":{\"fill\":{\"color\":\"#EBF0F8\"},\"line\":{\"color\":\"white\"}},\"header\":{\"fill\":{\"color\":\"#C8D4E3\"},\"line\":{\"color\":\"white\"}},\"type\":\"table\"}],\"barpolar\":[{\"marker\":{\"line\":{\"color\":\"#E5ECF6\",\"width\":0.5},\"pattern\":{\"fillmode\":\"overlay\",\"size\":10,\"solidity\":0.2}},\"type\":\"barpolar\"}],\"pie\":[{\"automargin\":true,\"type\":\"pie\"}]},\"layout\":{\"autotypenumbers\":\"strict\",\"colorway\":[\"#636efa\",\"#EF553B\",\"#00cc96\",\"#ab63fa\",\"#FFA15A\",\"#19d3f3\",\"#FF6692\",\"#B6E880\",\"#FF97FF\",\"#FECB52\"],\"font\":{\"color\":\"#2a3f5f\"},\"hovermode\":\"closest\",\"hoverlabel\":{\"align\":\"left\"},\"paper_bgcolor\":\"white\",\"plot_bgcolor\":\"#E5ECF6\",\"polar\":{\"bgcolor\":\"#E5ECF6\",\"angularaxis\":{\"gridcolor\":\"white\",\"linecolor\":\"white\",\"ticks\":\"\"},\"radialaxis\":{\"gridcolor\":\"white\",\"linecolor\":\"white\",\"ticks\":\"\"}},\"ternary\":{\"bgcolor\":\"#E5ECF6\",\"aaxis\":{\"gridcolor\":\"white\",\"linecolor\":\"white\",\"ticks\":\"\"},\"baxis\":{\"gridcolor\":\"white\",\"linecolor\":\"white\",\"ticks\":\"\"},\"caxis\":{\"gridcolor\":\"white\",\"linecolor\":\"white\",\"ticks\":\"\"}},\"coloraxis\":{\"colorbar\":{\"outlinewidth\":0,\"ticks\":\"\"}},\"colorscale\":{\"sequential\":[[0.0,\"#0d0887\"],[0.1111111111111111,\"#46039f\"],[0.2222222222222222,\"#7201a8\"],[0.3333333333333333,\"#9c179e\"],[0.4444444444444444,\"#bd3786\"],[0.5555555555555556,\"#d8576b\"],[0.6666666666666666,\"#ed7953\"],[0.7777777777777778,\"#fb9f3a\"],[0.8888888888888888,\"#fdca26\"],[1.0,\"#f0f921\"]],\"sequentialminus\":[[0.0,\"#0d0887\"],[0.1111111111111111,\"#46039f\"],[0.2222222222222222,\"#7201a8\"],[0.3333333333333333,\"#9c179e\"],[0.4444444444444444,\"#bd3786\"],[0.5555555555555556,\"#d8576b\"],[0.6666666666666666,\"#ed7953\"],[0.7777777777777778,\"#fb9f3a\"],[0.8888888888888888,\"#fdca26\"],[1.0,\"#f0f921\"]],\"diverging\":[[0,\"#8e0152\"],[0.1,\"#c51b7d\"],[0.2,\"#de77ae\"],[0.3,\"#f1b6da\"],[0.4,\"#fde0ef\"],[0.5,\"#f7f7f7\"],[0.6,\"#e6f5d0\"],[0.7,\"#b8e186\"],[0.8,\"#7fbc41\"],[0.9,\"#4d9221\"],[1,\"#276419\"]]},\"xaxis\":{\"gridcolor\":\"white\",\"linecolor\":\"white\",\"ticks\":\"\",\"title\":{\"standoff\":15},\"zerolinecolor\":\"white\",\"automargin\":true,\"zerolinewidth\":2},\"yaxis\":{\"gridcolor\":\"white\",\"linecolor\":\"white\",\"ticks\":\"\",\"title\":{\"standoff\":15},\"zerolinecolor\":\"white\",\"automargin\":true,\"zerolinewidth\":2},\"scene\":{\"xaxis\":{\"backgroundcolor\":\"#E5ECF6\",\"gridcolor\":\"white\",\"linecolor\":\"white\",\"showbackground\":true,\"ticks\":\"\",\"zerolinecolor\":\"white\",\"gridwidth\":2},\"yaxis\":{\"backgroundcolor\":\"#E5ECF6\",\"gridcolor\":\"white\",\"linecolor\":\"white\",\"showbackground\":true,\"ticks\":\"\",\"zerolinecolor\":\"white\",\"gridwidth\":2},\"zaxis\":{\"backgroundcolor\":\"#E5ECF6\",\"gridcolor\":\"white\",\"linecolor\":\"white\",\"showbackground\":true,\"ticks\":\"\",\"zerolinecolor\":\"white\",\"gridwidth\":2}},\"shapedefaults\":{\"line\":{\"color\":\"#2a3f5f\"}},\"annotationdefaults\":{\"arrowcolor\":\"#2a3f5f\",\"arrowhead\":0,\"arrowwidth\":1},\"geo\":{\"bgcolor\":\"white\",\"landcolor\":\"#E5ECF6\",\"subunitcolor\":\"white\",\"showland\":true,\"showlakes\":true,\"lakecolor\":\"white\"},\"title\":{\"x\":0.05},\"mapbox\":{\"style\":\"light\"}}},\"mapbox\":{\"domain\":{\"x\":[0.0,1.0],\"y\":[0.0,1.0]},\"center\":{\"lat\":40.41464064594003,\"lon\":-3.687291669282285},\"zoom\":10,\"style\":\"carto-positron\"},\"coloraxis\":{\"colorbar\":{\"title\":{\"text\":\"ENCUESTADOMICILIARIA\"}},\"colorscale\":[[0.0,\"rgb(253, 237, 176)\"],[0.09090909090909091,\"rgb(250, 205, 145)\"],[0.18181818181818182,\"rgb(246, 173, 119)\"],[0.2727272727272727,\"rgb(240, 142, 98)\"],[0.36363636363636365,\"rgb(231, 109, 84)\"],[0.45454545454545453,\"rgb(216, 80, 83)\"],[0.5454545454545454,\"rgb(195, 56, 90)\"],[0.6363636363636364,\"rgb(168, 40, 96)\"],[0.7272727272727273,\"rgb(138, 29, 99)\"],[0.8181818181818182,\"rgb(107, 24, 93)\"],[0.9090909090909091,\"rgb(76, 21, 80)\"],[1.0,\"rgb(47, 15, 61)\"]]},\"legend\":{\"tracegroupgap\":0},\"margin\":{\"t\":0,\"r\":0,\"l\":0,\"b\":0}},                        {\"responsive\": true}                    ).then(function(){\n",
       "                            \n",
       "var gd = document.getElementById('1551e2ec-f654-4e77-9783-7cd6d7681886');\n",
       "var x = new MutationObserver(function (mutations, observer) {{\n",
       "        var display = window.getComputedStyle(gd).display;\n",
       "        if (!display || display === 'none') {{\n",
       "            console.log([gd, 'removed!']);\n",
       "            Plotly.purge(gd);\n",
       "            observer.disconnect();\n",
       "        }}\n",
       "}});\n",
       "\n",
       "// Listen for the removal of the full notebook cells\n",
       "var notebookContainer = gd.closest('#notebook-container');\n",
       "if (notebookContainer) {{\n",
       "    x.observe(notebookContainer, {childList: true});\n",
       "}}\n",
       "\n",
       "// Listen for the clearing of the current output cell\n",
       "var outputEl = gd.closest('.output');\n",
       "if (outputEl) {{\n",
       "    x.observe(outputEl, {childList: true});\n",
       "}}\n",
       "\n",
       "                        })                };                });            </script>        </div>"
      ]
     },
     "metadata": {},
     "output_type": "display_data"
    }
   ],
   "source": [
    "fig = px.scatter_mapbox(\n",
    "    estaciones,\n",
    "    lat='latitude',\n",
    "    lon='longitude',\n",
    "    #estilos del mapa\n",
    "    mapbox_style='carto-positron',\n",
    "    zoom=10,\n",
    "    \n",
    "    hover_name='DENOMINACION', # necesita resetar el indice\n",
    "    #intensidad de color (numerico)\n",
    "    color='ENCUESTADOMICILIARIA',\n",
    "    color_continuous_scale='matter'\n",
    "    \n",
    "\n",
    "\n",
    ")\n",
    "\n",
    "fig.update_traces(\n",
    "    marker={\n",
    "        'size':8 # tamaño de los puntos\n",
    "    }\n",
    ")\n",
    "\n",
    "fig.update_layout(margin={'r':0, 't':0,'l':0, 'b':0})\n",
    "fig.show()"
   ]
  },
  {
   "cell_type": "code",
   "execution_count": 18,
   "id": "a0a3b507",
   "metadata": {},
   "outputs": [
    {
     "data": {
      "application/vnd.plotly.v1+json": {
       "config": {
        "plotlyServerURL": "https://plot.ly"
       },
       "data": [
        {
         "hovertemplate": "<b>%{hovertext}</b><br><br>GRADOACCESIBILIDAD=T<br>ENCUESTADOMICILIARIA=%{marker.size}<br>latitude=%{lat}<br>longitude=%{lon}<extra></extra>",
         "hovertext": [
          "ABRANTES",
          "AEROPUERTO T1 T2 T3",
          "AEROPUERTO T4",
          "ALAMEDA DE OSUNA",
          "ALCORCON CENTRAL",
          "ALMENDRALES",
          "ALONSO CANO",
          "ALONSO DE MENDOZA",
          "ALSACIA",
          "ALTO DEL ARENAL",
          "ALUCHE",
          "ANTONIO MACHADO",
          "ARGANDA DEL REY",
          "ARGANZUELA-PLANETARIO",
          "ARROYO CULEBRO",
          "ATOCHA RENFE",
          "AVDA. DE LA ILUSTRACION",
          "AVENIDA DE GUADALAJARA",
          "AVIACION ESPAÑOLA",
          "BAMBU",
          "BARAJAS",
          "BARRIO DEL PUERTO",
          "BATAN",
          "BAUNATAL",
          "CALLAO",
          "CANAL",
          "CANILLAS",
          "CARABANCHEL ALTO",
          "CASA DE CAMPO",
          "CASA DEL RELOJ",
          "CHAMARTIN",
          "CIUDAD DE LOS ANGELES",
          "CIUDAD UNIVERSITARIA",
          "COLOMBIA",
          "COLONIA JARDIN",
          "CONDE DE CASAL",
          "CONGOSTO",
          "CONSERVATORIO",
          "COSLADA CENTRAL",
          "CUATRO CAMINOS",
          "CUATRO VIENTOS",
          "DELICIAS",
          "EL BERCIAL",
          "EL CAPRICHO",
          "EL CARRASCAL",
          "EL CASAR",
          "EMBAJADORES",
          "EMPALME",
          "ESTADIO METROPOLITANO",
          "EUGENIA DE MONTIJO",
          "FERIA DE MADRID",
          "FRANCOS RODRIGUEZ",
          "FUENLABRADA CENTRAL",
          "GETAFE CENTRAL",
          "GOYA",
          "GREGORIO MARAÑON",
          "GUZMAN EL BUENO",
          "HENARES",
          "HORTALEZA",
          "HOSPITAL 12 DE OCTUBRE",
          "HOSPITAL DE FUENLABRADA",
          "HOSPITAL DE MOSTOLES",
          "HOSPITAL DEL HENARES",
          "HOSPITAL INFANTA SOFIA",
          "HOSPITAL SEVERO OCHOA",
          "IGLESIA",
          "ISLAS FILIPINAS",
          "JARAMA",
          "JOAQUIN VILUMBRALES",
          "JUAN DE LA CIERVA",
          "JULIAN BESTEIRO",
          "LA ALMUDENA",
          "LA ELIPA",
          "LA FORTUNA",
          "LA GAVIA",
          "LA GRANJA",
          "LA MORALEJA",
          "LA PESETA",
          "LA POVEDA",
          "LA RAMBLA",
          "LACOMA",
          "LAGO",
          "LAS ROSAS",
          "LAS SUERTES",
          "LAS TABLAS",
          "LAVAPIES",
          "LEGANES CENTRAL",
          "LEGAZPI",
          "LORANCA",
          "LOS ESPARTALES",
          "LUCERO",
          "MANOTERAS",
          "MANUEL DE FALLA",
          "MANUELA MALASAÑA",
          "MAR DE CRISTAL",
          "MARQUES DE LA VALDAVIA",
          "MIGUEL HERNANDEZ",
          "MIRASIERRA",
          "MONCLOA",
          "MONTECARMELO",
          "MOSTOLES CENTRAL",
          "NUEVOS MINISTERIOS",
          "PACO DE LUCIA",
          "PALOS DE LA FRONTERA",
          "PAN BENDITO",
          "PARQUE DE LOS ESTADOS",
          "PARQUE DE SANTA MARIA",
          "PARQUE EUROPA",
          "PARQUE LISBOA",
          "PARQUE OESTE",
          "PEÑAGRANDE",
          "PINAR DE CHAMARTIN",
          "PINAR DEL REY",
          "PIRAMIDES",
          "PITIS",
          "PLAZA DE ESPAÑA",
          "PLAZA ELIPTICA",
          "PRADILLO",
          "PUERTA DE ARGANDA",
          "PUERTA DEL SUR",
          "REYES CATOLICOS",
          "RIVAS FUTURA",
          "RIVAS URBANIZACIONES",
          "RIVAS VACIAMADRID",
          "RONDA DE LA COMUNICACION",
          "SAN CIPRIANO",
          "SAN CRISTOBAL",
          "SAN FERMIN-ORCASUR",
          "SAN FERNANDO",
          "SAN FRANCISCO",
          "SAN LORENZO",
          "SAN NICASIO",
          "SIERRA DE GUADALUPE",
          "TRES OLIVOS",
          "UNIVERSIDAD REY JUAN CARLOS",
          "VALDEBERNARDO",
          "VALDECARROS",
          "VALDEZARZA",
          "VENTURA RODRIGUEZ",
          "VICALVARO",
          "VILLA DE VALLECAS",
          "VILLAVERDE ALTO",
          "VILLAVERDE BAJO CRUCE"
         ],
         "lat": [
          40.3808336147312,
          40.4686442368363,
          40.491766772326,
          40.4577886285205,
          40.3500843402794,
          40.384093527174,
          40.4383753761104,
          40.3008139619265,
          40.4182926946444,
          40.3897710121487,
          40.3856286195639,
          40.4702177203907,
          40.303669277437,
          40.3931027049207,
          40.2887417691494,
          40.4065868145425,
          40.4801026115457,
          40.4223935838227,
          40.3836394376112,
          40.4768153611651,
          40.4757741638309,
          40.422496870096,
          40.4078602084024,
          40.5544232071442,
          40.4200832543965,
          40.4387025079451,
          40.4638105369802,
          40.3720024216854,
          40.4032422708359,
          40.3266027213842,
          40.4721031246127,
          40.359585428137,
          40.4435646769462,
          40.4574897504124,
          40.3969754264342,
          40.4069679504754,
          40.3723823703667,
          40.2932438463166,
          40.4237362059777,
          40.4469745969046,
          40.3777068887697,
          40.3999047785544,
          40.3290723674829,
          40.4534683327049,
          40.3366382437775,
          40.3186231578854,
          40.4051272711625,
          40.3905725578316,
          40.4333934840999,
          40.3843857971757,
          40.4638931513133,
          40.4564818207783,
          40.2826757751405,
          40.3099279090417,
          40.4245483896706,
          40.438250994429,
          40.4463660791437,
          40.4177694852412,
          40.475371717959,
          40.375031361291,
          40.2857554858776,
          40.3165242816456,
          40.4176100182185,
          40.5597694481961,
          40.3217702700883,
          40.4349234782849,
          40.4390682066327,
          40.422954804338,
          40.349848097734,
          40.3118023648563,
          40.3347491078306,
          40.4236132906806,
          40.4266172349772,
          40.3579531289265,
          40.3701916631975,
          40.5275996223624,
          40.5319556473465,
          40.3642240118116,
          40.3190157307928,
          40.4251434841391,
          40.4850150260736,
          40.4164141109915,
          40.4237484310442,
          40.3632280247659,
          40.5083301210639,
          40.4085109428559,
          40.3289852309455,
          40.3911577579403,
          40.2968126640553,
          40.3242270149373,
          40.4050996506522,
          40.4768742266936,
          40.5504799808972,
          40.3090300558365,
          40.4693837871887,
          40.5410235621335,
          40.3873157470567,
          40.4910977848675,
          40.4350235151956,
          40.505252159111,
          40.3285002183315,
          40.4466212151825,
          40.4996549120517,
          40.4030722839783,
          40.3758686366567,
          40.2868358005326,
          40.4771142938967,
          40.2851756964955,
          40.3496872815222,
          40.3458943804137,
          40.4759235202497,
          40.480139978151,
          40.4680013620738,
          40.4025981654589,
          40.4951058423757,
          40.4240868846098,
          40.3846000554076,
          40.3216769647447,
          40.4013157821612,
          40.3452428742768,
          40.5503748336655,
          40.3413421540536,
          40.3667715025775,
          40.3283709218929,
          40.5155346471774,
          40.4038117574594,
          40.3415419360096,
          40.3699909305509,
          40.4244122496606,
          40.3735988410558,
          40.4744707395869,
          40.336163147896,
          40.3821642503006,
          40.501204627482,
          40.3351229765986,
          40.400047129618,
          40.3600681331852,
          40.4648235328361,
          40.4270873644311,
          40.4042159164034,
          40.3795986114191,
          40.3412286568915,
          40.3508947639615
         ],
         "legendgroup": "T",
         "lon": [
          -3.72790024912171,
          -3.56953825594321,
          -3.59324559721343,
          -3.58752092904349,
          -3.83177862063198,
          -3.69788139765522,
          -3.69924564323726,
          -3.73663697171246,
          -3.62350600154867,
          -3.64521654904283,
          -3.76080381070444,
          -3.71769485524122,
          -3.44751896078065,
          -3.68864034744709,
          -3.75682335666738,
          -3.68937811076585,
          -3.71839825221866,
          -3.61206460968115,
          -3.78392294643938,
          -3.67636744147116,
          -3.58252790979637,
          -3.56918847026566,
          -3.75310993717595,
          -3.63512602371204,
          -3.70566477670052,
          -3.70488898865674,
          -3.63559546398109,
          -3.75190634426727,
          -3.7610136676265,
          -3.75942499130863,
          -3.68259088054998,
          -3.69362644417066,
          -3.72678481009787,
          -3.67693905940289,
          -3.77461625619616,
          -3.67040806723398,
          -3.61884135012454,
          -3.74576104044338,
          -3.56119234949966,
          -3.70386869928601,
          -3.79151519987357,
          -3.69419961603634,
          -3.72963318048934,
          -3.59401165769579,
          -3.74018488291484,
          -3.70985404230006,
          -3.70268049977228,
          -3.76534787557234,
          -3.60015365421252,
          -3.75121118478282,
          -3.61620468224152,
          -3.7123866721983,
          -3.79890690078202,
          -3.734025028929,
          -3.67591017618596,
          -3.69148286211901,
          -3.71229403706057,
          -3.52717835279042,
          -3.65257261134101,
          -3.69585469244456,
          -3.81641680868562,
          -3.87471247771921,
          -3.53453497209821,
          -3.61145473384219,
          -3.76797304730462,
          -3.69897999234847,
          -3.71372864479935,
          -3.52549376489887,
          -3.80720128436728,
          -3.72224012270444,
          -3.75265895099191,
          -3.63914233036257,
          -3.65051891390286,
          -3.777825849896,
          -3.61346348307526,
          -3.65859208713804,
          -3.63555952271399,
          -3.75690271058812,
          -3.47744735058845,
          -3.54792383333825,
          -3.72304554155022,
          -3.73563105937362,
          -3.60330559556744,
          -3.59953268972882,
          -3.66944258328346,
          -3.70090412320048,
          -3.77153699668843,
          -3.69505136534669,
          -3.83768345712019,
          -3.7181978645244,
          -3.74533695945151,
          -3.66289547589112,
          -3.64687944950569,
          -3.86402119722615,
          -3.63832022322047,
          -3.63738494117669,
          -3.63950990063064,
          -3.71634448229921,
          -3.7194506192407,
          -3.69575069505638,
          -3.86354217563866,
          -3.69240645851146,
          -3.70908148055736,
          -3.69423268407983,
          -3.73416885653047,
          -3.7869740434575,
          -3.64524200216563,
          -3.80632299228354,
          -3.82119573255216,
          -3.84933861659997,
          -3.71582415791248,
          -3.66680448144828,
          -3.64866836052012,
          -3.71137712281232,
          -3.72589123290808,
          -3.70969871159774,
          -3.71837055781195,
          -3.86488940297031,
          -3.59597530294796,
          -3.81211073504745,
          -3.62339941044202,
          -3.52478901227188,
          -3.54727580674555,
          -3.52059752095372,
          -3.66276510350324,
          -3.6023940495699,
          -3.69318029918632,
          -3.6941764145037,
          -3.53541452255171,
          -3.73910292919002,
          -3.6395772765646,
          -3.77587362530074,
          -3.62471747014878,
          -3.69520245046674,
          -3.87217960642448,
          -3.62155915980853,
          -3.59316035499877,
          -3.71597212685142,
          -3.71341309670545,
          -3.6088588260062,
          -3.62129648488235,
          -3.71199027086867,
          -3.69264894181344
         ],
         "marker": {
          "color": "#636efa",
          "size": [
           296,
           585,
           585,
           581,
           657,
           325,
           134,
           726,
           567,
           346,
           256,
           208,
           889,
           40,
           731,
           33,
           175,
           571,
           240,
           83,
           575,
           902,
           224,
           627,
           26,
           260,
           455,
           306,
           448,
           767,
           172,
           467,
           219,
           188,
           249,
           57,
           502,
           731,
           898,
           353,
           233,
           39,
           705,
           582,
           763,
           709,
           22,
           254,
           555,
           298,
           578,
           217,
           699,
           722,
           150,
           265,
           242,
           930,
           445,
           326,
           689,
           802,
           905,
           621,
           770,
           133,
           126,
           929,
           655,
           716,
           756,
           424,
           426,
           740,
           512,
           593,
           598,
           305,
           886,
           899,
           172,
           224,
           572,
           515,
           152,
           20,
           751,
           79,
           678,
           707,
           262,
           442,
           588,
           808,
           904,
           594,
           348,
           159,
           453,
           145,
           787,
           360,
           160,
           30,
           302,
           694,
           446,
           691,
           653,
           651,
           178,
           794,
           449,
           27,
           158,
           238,
           594,
           795,
           531,
           1308,
           629,
           916,
           914,
           918,
           153,
           531,
           484,
           336,
           929,
           307,
           450,
           747,
           350,
           148,
           782,
           522,
           517,
           210,
           6,
           526,
           500,
           484,
           481
          ],
          "sizemode": "area",
          "sizeref": 3.27
         },
         "mode": "markers",
         "name": "T",
         "showlegend": true,
         "subplot": "mapbox",
         "type": "scattermapbox"
        },
        {
         "hovertemplate": "<b>%{hovertext}</b><br><br>GRADOACCESIBILIDAD=N<br>ENCUESTADOMICILIARIA=%{marker.size}<br>latitude=%{lat}<br>longitude=%{lon}<extra></extra>",
         "hovertext": [
          "ACACIAS",
          "ALFONSO XIII",
          "ALONSO MARTINEZ",
          "ALTO DE EXTREMADURA",
          "ALVARADO",
          "ANTON MARTIN",
          "ARGÜELLES",
          "ARTILLEROS",
          "ARTURO SORIA",
          "ASCAO",
          "AVENIDA DE AMERICA",
          "AVENIDA DE LA PAZ",
          "BANCO DE ESPAÑA",
          "BARRIO DE LA CONCEPCION",
          "BARRIO DEL PILAR",
          "BEGOÑA",
          "BILBAO",
          "BUENOS AIRES",
          "CAMPAMENTO",
          "CANILLEJAS",
          "CARABANCHEL",
          "CARPETANA",
          "CARTAGENA",
          "CHUECA",
          "CIUDAD LINEAL",
          "COLON",
          "CONCHA ESPINA",
          "CRUZ DEL RAYO",
          "CUZCO",
          "DIEGO DE LEON",
          "DUQUE DE PASTRANA",
          "EL CARMEN",
          "ESPERANZA",
          "ESTACIÓN DEL ARTE",
          "ESTRECHO",
          "ESTRELLA",
          "FUENCARRAL",
          "GARCIA NOBLEJAS",
          "GRAN VIA",
          "HERRERA ORIA",
          "IBIZA",
          "LA LATINA",
          "LAGUNA",
          "LAS MUSAS",
          "LISTA",
          "MANUEL BECERRA",
          "MARQUES DE VADILLO",
          "MENDEZ ALVARO",
          "MENENDEZ PELAYO",
          "NOVICIADO",
          "NUEVA NUMANCIA",
          "NUÑEZ DE BALBOA",
          "O'DONNELL",
          "OPAÑEL",
          "OPERA",
          "OPORTO",
          "PACIFICO",
          "PARQUE DE LAS AVENIDAS",
          "PAVONES",
          "PIO XII",
          "PLAZA DE CASTILLA",
          "PORTAZGO",
          "PRINCIPE DE VERGARA",
          "PROSPERIDAD",
          "PUEBLO NUEVO",
          "PUENTE DE VALLECAS",
          "PUERTA DE TOLEDO",
          "PUERTA DEL ANGEL",
          "QUEVEDO",
          "QUINTANA",
          "REPUBLICA ARGENTINA",
          "RETIRO",
          "RIOS ROSAS",
          "RUBEN DARIO",
          "SAINZ DE BARANDA",
          "SAN BERNARDO",
          "SAN BLAS",
          "SANTIAGO BERNABEU",
          "SANTO DOMINGO",
          "SERRANO",
          "SEVILLA",
          "SIMANCAS",
          "SUANZES",
          "TETUAN",
          "TIRSO DE MOLINA",
          "TORRE ARIAS",
          "TRIBUNAL",
          "URGEL",
          "USERA",
          "VALDEACEDERAS",
          "VELAZQUEZ",
          "VENTAS",
          "VENTILLA",
          "VICENTE ALEIXANDRE",
          "VINATEROS",
          "VISTA ALEGRE"
         ],
         "lat": [
          40.4038716437299,
          40.448248388161,
          40.42852602883,
          40.4099260169851,
          40.4503319759943,
          40.41246356569,
          40.4306609302246,
          40.4052238336675,
          40.4558324918715,
          40.4302055301581,
          40.4380325773816,
          40.4535426348993,
          40.4192197861148,
          40.4390993999931,
          40.4768890688056,
          40.4804129321054,
          40.428850304442,
          40.3915628772158,
          40.3948077574021,
          40.4494208443657,
          40.387827019968,
          40.3927018994635,
          40.4393374952451,
          40.4229331780798,
          40.4380484084201,
          40.4254191821374,
          40.4514484326224,
          40.4442658811033,
          40.4584214192787,
          40.4329476824461,
          40.4676258515088,
          40.4318932920946,
          40.4594472971918,
          40.4088515983755,
          40.4542880258282,
          40.4114722192065,
          40.4950851624077,
          40.4284231905451,
          40.4199866177357,
          40.484662780153,
          40.4183912105898,
          40.4112803286869,
          40.3992296247106,
          40.4329881279398,
          40.4291685202558,
          40.4279044798375,
          40.3973562903245,
          40.395375599391,
          40.4044505222636,
          40.4248422335784,
          40.3955381621572,
          40.4301298212657,
          40.4228884246446,
          40.3869044042556,
          40.4180929194931,
          40.3884647630932,
          40.4012617890482,
          40.4394476023403,
          40.4005115495727,
          40.4630027605113,
          40.4668965341419,
          40.392664108961,
          40.4229448617607,
          40.4441889741445,
          40.4356585154991,
          40.3981921510029,
          40.4070357544619,
          40.4138988943963,
          40.4332173151576,
          40.4335849416495,
          40.44379456449,
          40.4203067175233,
          40.4419753563559,
          40.4331579372096,
          40.4150284968071,
          40.4300127626608,
          40.4279919067674,
          40.4515891795258,
          40.4213154081332,
          40.425432159419,
          40.4180507481241,
          40.4279923730252,
          40.4408512430777,
          40.4605518826648,
          40.4123480941102,
          40.4437432964146,
          40.4261853955902,
          40.3933517684562,
          40.3870966932697,
          40.4644241785987,
          40.4250325508648,
          40.4308848031949,
          40.4694353769873,
          40.4464363993485,
          40.4102399277996,
          40.3888470257572
         ],
         "legendgroup": "N",
         "lon": [
          -3.70664108607519,
          -3.66790615299561,
          -3.69643188600389,
          -3.73893618157226,
          -3.70331420927578,
          -3.69937296334489,
          -3.71596265109483,
          -3.64181233777473,
          -3.65618121809782,
          -3.64105571498423,
          -3.67663955532626,
          -3.66118199968261,
          -3.69496510558138,
          -3.65200400129475,
          -3.70316450384176,
          -3.685849695579,
          -3.70113817556514,
          -3.6539061229837,
          -3.76812813678741,
          -3.60816032312032,
          -3.74487052104138,
          -3.74099367671356,
          -3.67215160132978,
          -3.69761659244378,
          -3.6381575883455,
          -3.69100739257143,
          -3.67738012287591,
          -3.67821410967105,
          -3.6898507512138,
          -3.67293856677242,
          -3.6791705524779,
          -3.65757254725966,
          -3.64581718003963,
          -3.69248727105058,
          -3.70302295994985,
          -3.66178527076064,
          -3.69283123100657,
          -3.63329946572732,
          -3.70180393013566,
          -3.70751021303079,
          -3.67857510552646,
          -3.70816086851901,
          -3.74428871805663,
          -3.60787951427632,
          -3.67540982227869,
          -3.66920518071164,
          -3.71596007651405,
          -3.67814150708304,
          -3.68097941707577,
          -3.70741904261363,
          -3.66414170148567,
          -3.67936371945562,
          -3.66859514629195,
          -3.72313362116361,
          -3.70941860871968,
          -3.73132331241503,
          -3.67513655621334,
          -3.66297058086922,
          -3.63512255629341,
          -3.67579015001895,
          -3.68908610432808,
          -3.65868242534443,
          -3.68012268104369,
          -3.67481890299206,
          -3.64282293725217,
          -3.66905899947859,
          -3.71104645076763,
          -3.72724045181543,
          -3.70433286125026,
          -3.64736224209832,
          -3.68406186705705,
          -3.68624471917784,
          -3.70132848117729,
          -3.68954159857549,
          -3.66951374370264,
          -3.70556993325102,
          -3.61546907625776,
          -3.69037934673485,
          -3.70795527665699,
          -3.68663043638334,
          -3.69925113804034,
          -3.62572167294121,
          -3.62683974417714,
          -3.69824989397233,
          -3.70465526879971,
          -3.61699470593882,
          -3.70109984950459,
          -3.72360482429366,
          -3.70689564278932,
          -3.69506203750875,
          -3.6829181480862,
          -3.66360584172735,
          -3.69588332976518,
          -3.71942671196889,
          -3.65273420710476,
          -3.73982455000658
         ],
         "marker": {
          "color": "#EF553B",
          "size": [
           28,
           99,
           418,
           265,
           118,
           20,
           273,
           385,
           401,
           420,
           412,
           401,
           10,
           408,
           198,
           195,
           277,
           345,
           251,
           547,
           288,
           287,
           103,
           4,
           415,
           140,
           97,
           97,
           92,
           211,
           88,
           410,
           458,
           23,
           111,
           379,
           162,
           423,
           28,
           185,
           48,
           19,
           264,
           566,
           72,
           152,
           276,
           44,
           60,
           7,
           351,
           138,
           78,
           285,
           36,
           566,
           127,
           69,
           394,
           90,
           279,
           358,
           150,
           97,
           828,
           351,
           22,
           268,
           138,
           413,
           96,
           47,
           129,
           135,
           112,
           276,
           564,
           96,
           12,
           70,
           15,
           561,
           550,
           112,
           19,
           545,
           7,
           284,
           316,
           112,
           74,
           146,
           106,
           221,
           380,
           289
          ],
          "sizemode": "area",
          "sizeref": 3.27
         },
         "mode": "markers",
         "name": "N",
         "showlegend": true,
         "subplot": "mapbox",
         "type": "scattermapbox"
        },
        {
         "hovertemplate": "<b>%{hovertext}</b><br><br>GRADOACCESIBILIDAD=P<br>ENCUESTADOMICILIARIA=%{marker.size}<br>latitude=%{lat}<br>longitude=%{lon}<extra></extra>",
         "hovertext": [
          "PRINCIPE PIO",
          "SOL"
         ],
         "lat": [
          40.4210688443836,
          40.416876060894
         ],
         "legendgroup": "P",
         "lon": [
          -3.72032355914226,
          -3.70326164857528
         ],
         "marker": {
          "color": "#00cc96",
          "size": [
           690,
           42
          ],
          "sizemode": "area",
          "sizeref": 3.27
         },
         "mode": "markers",
         "name": "P",
         "showlegend": true,
         "subplot": "mapbox",
         "type": "scattermapbox"
        }
       ],
       "layout": {
        "legend": {
         "itemsizing": "constant",
         "title": {
          "text": "GRADOACCESIBILIDAD"
         },
         "tracegroupgap": 0
        },
        "mapbox": {
         "center": {
          "lat": 40.41464064594003,
          "lon": -3.687291669282285
         },
         "domain": {
          "x": [
           0,
           1
          ],
          "y": [
           0,
           1
          ]
         },
         "style": "carto-positron",
         "zoom": 10
        },
        "margin": {
         "b": 0,
         "l": 0,
         "r": 0,
         "t": 0
        },
        "template": {
         "data": {
          "bar": [
           {
            "error_x": {
             "color": "#2a3f5f"
            },
            "error_y": {
             "color": "#2a3f5f"
            },
            "marker": {
             "line": {
              "color": "#E5ECF6",
              "width": 0.5
             },
             "pattern": {
              "fillmode": "overlay",
              "size": 10,
              "solidity": 0.2
             }
            },
            "type": "bar"
           }
          ],
          "barpolar": [
           {
            "marker": {
             "line": {
              "color": "#E5ECF6",
              "width": 0.5
             },
             "pattern": {
              "fillmode": "overlay",
              "size": 10,
              "solidity": 0.2
             }
            },
            "type": "barpolar"
           }
          ],
          "carpet": [
           {
            "aaxis": {
             "endlinecolor": "#2a3f5f",
             "gridcolor": "white",
             "linecolor": "white",
             "minorgridcolor": "white",
             "startlinecolor": "#2a3f5f"
            },
            "baxis": {
             "endlinecolor": "#2a3f5f",
             "gridcolor": "white",
             "linecolor": "white",
             "minorgridcolor": "white",
             "startlinecolor": "#2a3f5f"
            },
            "type": "carpet"
           }
          ],
          "choropleth": [
           {
            "colorbar": {
             "outlinewidth": 0,
             "ticks": ""
            },
            "type": "choropleth"
           }
          ],
          "contour": [
           {
            "colorbar": {
             "outlinewidth": 0,
             "ticks": ""
            },
            "colorscale": [
             [
              0,
              "#0d0887"
             ],
             [
              0.1111111111111111,
              "#46039f"
             ],
             [
              0.2222222222222222,
              "#7201a8"
             ],
             [
              0.3333333333333333,
              "#9c179e"
             ],
             [
              0.4444444444444444,
              "#bd3786"
             ],
             [
              0.5555555555555556,
              "#d8576b"
             ],
             [
              0.6666666666666666,
              "#ed7953"
             ],
             [
              0.7777777777777778,
              "#fb9f3a"
             ],
             [
              0.8888888888888888,
              "#fdca26"
             ],
             [
              1,
              "#f0f921"
             ]
            ],
            "type": "contour"
           }
          ],
          "contourcarpet": [
           {
            "colorbar": {
             "outlinewidth": 0,
             "ticks": ""
            },
            "type": "contourcarpet"
           }
          ],
          "heatmap": [
           {
            "colorbar": {
             "outlinewidth": 0,
             "ticks": ""
            },
            "colorscale": [
             [
              0,
              "#0d0887"
             ],
             [
              0.1111111111111111,
              "#46039f"
             ],
             [
              0.2222222222222222,
              "#7201a8"
             ],
             [
              0.3333333333333333,
              "#9c179e"
             ],
             [
              0.4444444444444444,
              "#bd3786"
             ],
             [
              0.5555555555555556,
              "#d8576b"
             ],
             [
              0.6666666666666666,
              "#ed7953"
             ],
             [
              0.7777777777777778,
              "#fb9f3a"
             ],
             [
              0.8888888888888888,
              "#fdca26"
             ],
             [
              1,
              "#f0f921"
             ]
            ],
            "type": "heatmap"
           }
          ],
          "heatmapgl": [
           {
            "colorbar": {
             "outlinewidth": 0,
             "ticks": ""
            },
            "colorscale": [
             [
              0,
              "#0d0887"
             ],
             [
              0.1111111111111111,
              "#46039f"
             ],
             [
              0.2222222222222222,
              "#7201a8"
             ],
             [
              0.3333333333333333,
              "#9c179e"
             ],
             [
              0.4444444444444444,
              "#bd3786"
             ],
             [
              0.5555555555555556,
              "#d8576b"
             ],
             [
              0.6666666666666666,
              "#ed7953"
             ],
             [
              0.7777777777777778,
              "#fb9f3a"
             ],
             [
              0.8888888888888888,
              "#fdca26"
             ],
             [
              1,
              "#f0f921"
             ]
            ],
            "type": "heatmapgl"
           }
          ],
          "histogram": [
           {
            "marker": {
             "pattern": {
              "fillmode": "overlay",
              "size": 10,
              "solidity": 0.2
             }
            },
            "type": "histogram"
           }
          ],
          "histogram2d": [
           {
            "colorbar": {
             "outlinewidth": 0,
             "ticks": ""
            },
            "colorscale": [
             [
              0,
              "#0d0887"
             ],
             [
              0.1111111111111111,
              "#46039f"
             ],
             [
              0.2222222222222222,
              "#7201a8"
             ],
             [
              0.3333333333333333,
              "#9c179e"
             ],
             [
              0.4444444444444444,
              "#bd3786"
             ],
             [
              0.5555555555555556,
              "#d8576b"
             ],
             [
              0.6666666666666666,
              "#ed7953"
             ],
             [
              0.7777777777777778,
              "#fb9f3a"
             ],
             [
              0.8888888888888888,
              "#fdca26"
             ],
             [
              1,
              "#f0f921"
             ]
            ],
            "type": "histogram2d"
           }
          ],
          "histogram2dcontour": [
           {
            "colorbar": {
             "outlinewidth": 0,
             "ticks": ""
            },
            "colorscale": [
             [
              0,
              "#0d0887"
             ],
             [
              0.1111111111111111,
              "#46039f"
             ],
             [
              0.2222222222222222,
              "#7201a8"
             ],
             [
              0.3333333333333333,
              "#9c179e"
             ],
             [
              0.4444444444444444,
              "#bd3786"
             ],
             [
              0.5555555555555556,
              "#d8576b"
             ],
             [
              0.6666666666666666,
              "#ed7953"
             ],
             [
              0.7777777777777778,
              "#fb9f3a"
             ],
             [
              0.8888888888888888,
              "#fdca26"
             ],
             [
              1,
              "#f0f921"
             ]
            ],
            "type": "histogram2dcontour"
           }
          ],
          "mesh3d": [
           {
            "colorbar": {
             "outlinewidth": 0,
             "ticks": ""
            },
            "type": "mesh3d"
           }
          ],
          "parcoords": [
           {
            "line": {
             "colorbar": {
              "outlinewidth": 0,
              "ticks": ""
             }
            },
            "type": "parcoords"
           }
          ],
          "pie": [
           {
            "automargin": true,
            "type": "pie"
           }
          ],
          "scatter": [
           {
            "fillpattern": {
             "fillmode": "overlay",
             "size": 10,
             "solidity": 0.2
            },
            "type": "scatter"
           }
          ],
          "scatter3d": [
           {
            "line": {
             "colorbar": {
              "outlinewidth": 0,
              "ticks": ""
             }
            },
            "marker": {
             "colorbar": {
              "outlinewidth": 0,
              "ticks": ""
             }
            },
            "type": "scatter3d"
           }
          ],
          "scattercarpet": [
           {
            "marker": {
             "colorbar": {
              "outlinewidth": 0,
              "ticks": ""
             }
            },
            "type": "scattercarpet"
           }
          ],
          "scattergeo": [
           {
            "marker": {
             "colorbar": {
              "outlinewidth": 0,
              "ticks": ""
             }
            },
            "type": "scattergeo"
           }
          ],
          "scattergl": [
           {
            "marker": {
             "colorbar": {
              "outlinewidth": 0,
              "ticks": ""
             }
            },
            "type": "scattergl"
           }
          ],
          "scattermapbox": [
           {
            "marker": {
             "colorbar": {
              "outlinewidth": 0,
              "ticks": ""
             }
            },
            "type": "scattermapbox"
           }
          ],
          "scatterpolar": [
           {
            "marker": {
             "colorbar": {
              "outlinewidth": 0,
              "ticks": ""
             }
            },
            "type": "scatterpolar"
           }
          ],
          "scatterpolargl": [
           {
            "marker": {
             "colorbar": {
              "outlinewidth": 0,
              "ticks": ""
             }
            },
            "type": "scatterpolargl"
           }
          ],
          "scatterternary": [
           {
            "marker": {
             "colorbar": {
              "outlinewidth": 0,
              "ticks": ""
             }
            },
            "type": "scatterternary"
           }
          ],
          "surface": [
           {
            "colorbar": {
             "outlinewidth": 0,
             "ticks": ""
            },
            "colorscale": [
             [
              0,
              "#0d0887"
             ],
             [
              0.1111111111111111,
              "#46039f"
             ],
             [
              0.2222222222222222,
              "#7201a8"
             ],
             [
              0.3333333333333333,
              "#9c179e"
             ],
             [
              0.4444444444444444,
              "#bd3786"
             ],
             [
              0.5555555555555556,
              "#d8576b"
             ],
             [
              0.6666666666666666,
              "#ed7953"
             ],
             [
              0.7777777777777778,
              "#fb9f3a"
             ],
             [
              0.8888888888888888,
              "#fdca26"
             ],
             [
              1,
              "#f0f921"
             ]
            ],
            "type": "surface"
           }
          ],
          "table": [
           {
            "cells": {
             "fill": {
              "color": "#EBF0F8"
             },
             "line": {
              "color": "white"
             }
            },
            "header": {
             "fill": {
              "color": "#C8D4E3"
             },
             "line": {
              "color": "white"
             }
            },
            "type": "table"
           }
          ]
         },
         "layout": {
          "annotationdefaults": {
           "arrowcolor": "#2a3f5f",
           "arrowhead": 0,
           "arrowwidth": 1
          },
          "autotypenumbers": "strict",
          "coloraxis": {
           "colorbar": {
            "outlinewidth": 0,
            "ticks": ""
           }
          },
          "colorscale": {
           "diverging": [
            [
             0,
             "#8e0152"
            ],
            [
             0.1,
             "#c51b7d"
            ],
            [
             0.2,
             "#de77ae"
            ],
            [
             0.3,
             "#f1b6da"
            ],
            [
             0.4,
             "#fde0ef"
            ],
            [
             0.5,
             "#f7f7f7"
            ],
            [
             0.6,
             "#e6f5d0"
            ],
            [
             0.7,
             "#b8e186"
            ],
            [
             0.8,
             "#7fbc41"
            ],
            [
             0.9,
             "#4d9221"
            ],
            [
             1,
             "#276419"
            ]
           ],
           "sequential": [
            [
             0,
             "#0d0887"
            ],
            [
             0.1111111111111111,
             "#46039f"
            ],
            [
             0.2222222222222222,
             "#7201a8"
            ],
            [
             0.3333333333333333,
             "#9c179e"
            ],
            [
             0.4444444444444444,
             "#bd3786"
            ],
            [
             0.5555555555555556,
             "#d8576b"
            ],
            [
             0.6666666666666666,
             "#ed7953"
            ],
            [
             0.7777777777777778,
             "#fb9f3a"
            ],
            [
             0.8888888888888888,
             "#fdca26"
            ],
            [
             1,
             "#f0f921"
            ]
           ],
           "sequentialminus": [
            [
             0,
             "#0d0887"
            ],
            [
             0.1111111111111111,
             "#46039f"
            ],
            [
             0.2222222222222222,
             "#7201a8"
            ],
            [
             0.3333333333333333,
             "#9c179e"
            ],
            [
             0.4444444444444444,
             "#bd3786"
            ],
            [
             0.5555555555555556,
             "#d8576b"
            ],
            [
             0.6666666666666666,
             "#ed7953"
            ],
            [
             0.7777777777777778,
             "#fb9f3a"
            ],
            [
             0.8888888888888888,
             "#fdca26"
            ],
            [
             1,
             "#f0f921"
            ]
           ]
          },
          "colorway": [
           "#636efa",
           "#EF553B",
           "#00cc96",
           "#ab63fa",
           "#FFA15A",
           "#19d3f3",
           "#FF6692",
           "#B6E880",
           "#FF97FF",
           "#FECB52"
          ],
          "font": {
           "color": "#2a3f5f"
          },
          "geo": {
           "bgcolor": "white",
           "lakecolor": "white",
           "landcolor": "#E5ECF6",
           "showlakes": true,
           "showland": true,
           "subunitcolor": "white"
          },
          "hoverlabel": {
           "align": "left"
          },
          "hovermode": "closest",
          "mapbox": {
           "style": "light"
          },
          "paper_bgcolor": "white",
          "plot_bgcolor": "#E5ECF6",
          "polar": {
           "angularaxis": {
            "gridcolor": "white",
            "linecolor": "white",
            "ticks": ""
           },
           "bgcolor": "#E5ECF6",
           "radialaxis": {
            "gridcolor": "white",
            "linecolor": "white",
            "ticks": ""
           }
          },
          "scene": {
           "xaxis": {
            "backgroundcolor": "#E5ECF6",
            "gridcolor": "white",
            "gridwidth": 2,
            "linecolor": "white",
            "showbackground": true,
            "ticks": "",
            "zerolinecolor": "white"
           },
           "yaxis": {
            "backgroundcolor": "#E5ECF6",
            "gridcolor": "white",
            "gridwidth": 2,
            "linecolor": "white",
            "showbackground": true,
            "ticks": "",
            "zerolinecolor": "white"
           },
           "zaxis": {
            "backgroundcolor": "#E5ECF6",
            "gridcolor": "white",
            "gridwidth": 2,
            "linecolor": "white",
            "showbackground": true,
            "ticks": "",
            "zerolinecolor": "white"
           }
          },
          "shapedefaults": {
           "line": {
            "color": "#2a3f5f"
           }
          },
          "ternary": {
           "aaxis": {
            "gridcolor": "white",
            "linecolor": "white",
            "ticks": ""
           },
           "baxis": {
            "gridcolor": "white",
            "linecolor": "white",
            "ticks": ""
           },
           "bgcolor": "#E5ECF6",
           "caxis": {
            "gridcolor": "white",
            "linecolor": "white",
            "ticks": ""
           }
          },
          "title": {
           "x": 0.05
          },
          "xaxis": {
           "automargin": true,
           "gridcolor": "white",
           "linecolor": "white",
           "ticks": "",
           "title": {
            "standoff": 15
           },
           "zerolinecolor": "white",
           "zerolinewidth": 2
          },
          "yaxis": {
           "automargin": true,
           "gridcolor": "white",
           "linecolor": "white",
           "ticks": "",
           "title": {
            "standoff": 15
           },
           "zerolinecolor": "white",
           "zerolinewidth": 2
          }
         }
        }
       }
      },
      "text/html": [
       "<div>                            <div id=\"d570babf-5e74-4bca-97c7-64ebac877ce3\" class=\"plotly-graph-div\" style=\"height:525px; width:100%;\"></div>            <script type=\"text/javascript\">                require([\"plotly\"], function(Plotly) {                    window.PLOTLYENV=window.PLOTLYENV || {};                                    if (document.getElementById(\"d570babf-5e74-4bca-97c7-64ebac877ce3\")) {                    Plotly.newPlot(                        \"d570babf-5e74-4bca-97c7-64ebac877ce3\",                        [{\"hovertemplate\":\"<b>%{hovertext}</b><br><br>GRADOACCESIBILIDAD=T<br>ENCUESTADOMICILIARIA=%{marker.size}<br>latitude=%{lat}<br>longitude=%{lon}<extra></extra>\",\"hovertext\":[\"ABRANTES\",\"AEROPUERTO T1 T2 T3\",\"AEROPUERTO T4\",\"ALAMEDA DE OSUNA\",\"ALCORCON CENTRAL\",\"ALMENDRALES\",\"ALONSO CANO\",\"ALONSO DE MENDOZA\",\"ALSACIA\",\"ALTO DEL ARENAL\",\"ALUCHE\",\"ANTONIO MACHADO\",\"ARGANDA DEL REY\",\"ARGANZUELA-PLANETARIO\",\"ARROYO CULEBRO\",\"ATOCHA RENFE\",\"AVDA. DE LA ILUSTRACION\",\"AVENIDA DE GUADALAJARA\",\"AVIACION ESPA\\u00d1OLA\",\"BAMBU\",\"BARAJAS\",\"BARRIO DEL PUERTO\",\"BATAN\",\"BAUNATAL\",\"CALLAO\",\"CANAL\",\"CANILLAS\",\"CARABANCHEL ALTO\",\"CASA DE CAMPO\",\"CASA DEL RELOJ\",\"CHAMARTIN\",\"CIUDAD DE LOS ANGELES\",\"CIUDAD UNIVERSITARIA\",\"COLOMBIA\",\"COLONIA JARDIN\",\"CONDE DE CASAL\",\"CONGOSTO\",\"CONSERVATORIO\",\"COSLADA CENTRAL\",\"CUATRO CAMINOS\",\"CUATRO VIENTOS\",\"DELICIAS\",\"EL BERCIAL\",\"EL CAPRICHO\",\"EL CARRASCAL\",\"EL CASAR\",\"EMBAJADORES\",\"EMPALME\",\"ESTADIO METROPOLITANO\",\"EUGENIA DE MONTIJO\",\"FERIA DE MADRID\",\"FRANCOS RODRIGUEZ\",\"FUENLABRADA CENTRAL\",\"GETAFE CENTRAL\",\"GOYA\",\"GREGORIO MARA\\u00d1ON\",\"GUZMAN EL BUENO\",\"HENARES\",\"HORTALEZA\",\"HOSPITAL 12 DE OCTUBRE\",\"HOSPITAL DE FUENLABRADA\",\"HOSPITAL DE MOSTOLES\",\"HOSPITAL DEL HENARES\",\"HOSPITAL INFANTA SOFIA\",\"HOSPITAL SEVERO OCHOA\",\"IGLESIA\",\"ISLAS FILIPINAS\",\"JARAMA\",\"JOAQUIN VILUMBRALES\",\"JUAN DE LA CIERVA\",\"JULIAN BESTEIRO\",\"LA ALMUDENA\",\"LA ELIPA\",\"LA FORTUNA\",\"LA GAVIA\",\"LA GRANJA\",\"LA MORALEJA\",\"LA PESETA\",\"LA POVEDA\",\"LA RAMBLA\",\"LACOMA\",\"LAGO\",\"LAS ROSAS\",\"LAS SUERTES\",\"LAS TABLAS\",\"LAVAPIES\",\"LEGANES CENTRAL\",\"LEGAZPI\",\"LORANCA\",\"LOS ESPARTALES\",\"LUCERO\",\"MANOTERAS\",\"MANUEL DE FALLA\",\"MANUELA MALASA\\u00d1A\",\"MAR DE CRISTAL\",\"MARQUES DE LA VALDAVIA\",\"MIGUEL HERNANDEZ\",\"MIRASIERRA\",\"MONCLOA\",\"MONTECARMELO\",\"MOSTOLES CENTRAL\",\"NUEVOS MINISTERIOS\",\"PACO DE LUCIA\",\"PALOS DE LA FRONTERA\",\"PAN BENDITO\",\"PARQUE DE LOS ESTADOS\",\"PARQUE DE SANTA MARIA\",\"PARQUE EUROPA\",\"PARQUE LISBOA\",\"PARQUE OESTE\",\"PE\\u00d1AGRANDE\",\"PINAR DE CHAMARTIN\",\"PINAR DEL REY\",\"PIRAMIDES\",\"PITIS\",\"PLAZA DE ESPA\\u00d1A\",\"PLAZA ELIPTICA\",\"PRADILLO\",\"PUERTA DE ARGANDA\",\"PUERTA DEL SUR\",\"REYES CATOLICOS\",\"RIVAS FUTURA\",\"RIVAS URBANIZACIONES\",\"RIVAS VACIAMADRID\",\"RONDA DE LA COMUNICACION\",\"SAN CIPRIANO\",\"SAN CRISTOBAL\",\"SAN FERMIN-ORCASUR\",\"SAN FERNANDO\",\"SAN FRANCISCO\",\"SAN LORENZO\",\"SAN NICASIO\",\"SIERRA DE GUADALUPE\",\"TRES OLIVOS\",\"UNIVERSIDAD REY JUAN CARLOS\",\"VALDEBERNARDO\",\"VALDECARROS\",\"VALDEZARZA\",\"VENTURA RODRIGUEZ\",\"VICALVARO\",\"VILLA DE VALLECAS\",\"VILLAVERDE ALTO\",\"VILLAVERDE BAJO CRUCE\"],\"lat\":[40.3808336147312,40.4686442368363,40.491766772326,40.4577886285205,40.3500843402794,40.384093527174,40.4383753761104,40.3008139619265,40.4182926946444,40.3897710121487,40.3856286195639,40.4702177203907,40.303669277437,40.3931027049207,40.2887417691494,40.4065868145425,40.4801026115457,40.4223935838227,40.3836394376112,40.4768153611651,40.4757741638309,40.422496870096,40.4078602084024,40.5544232071442,40.4200832543965,40.4387025079451,40.4638105369802,40.3720024216854,40.4032422708359,40.3266027213842,40.4721031246127,40.359585428137,40.4435646769462,40.4574897504124,40.3969754264342,40.4069679504754,40.3723823703667,40.2932438463166,40.4237362059777,40.4469745969046,40.3777068887697,40.3999047785544,40.3290723674829,40.4534683327049,40.3366382437775,40.3186231578854,40.4051272711625,40.3905725578316,40.4333934840999,40.3843857971757,40.4638931513133,40.4564818207783,40.2826757751405,40.3099279090417,40.4245483896706,40.438250994429,40.4463660791437,40.4177694852412,40.475371717959,40.375031361291,40.2857554858776,40.3165242816456,40.4176100182185,40.5597694481961,40.3217702700883,40.4349234782849,40.4390682066327,40.422954804338,40.349848097734,40.3118023648563,40.3347491078306,40.4236132906806,40.4266172349772,40.3579531289265,40.3701916631975,40.5275996223624,40.5319556473465,40.3642240118116,40.3190157307928,40.4251434841391,40.4850150260736,40.4164141109915,40.4237484310442,40.3632280247659,40.5083301210639,40.4085109428559,40.3289852309455,40.3911577579403,40.2968126640553,40.3242270149373,40.4050996506522,40.4768742266936,40.5504799808972,40.3090300558365,40.4693837871887,40.5410235621335,40.3873157470567,40.4910977848675,40.4350235151956,40.505252159111,40.3285002183315,40.4466212151825,40.4996549120517,40.4030722839783,40.3758686366567,40.2868358005326,40.4771142938967,40.2851756964955,40.3496872815222,40.3458943804137,40.4759235202497,40.480139978151,40.4680013620738,40.4025981654589,40.4951058423757,40.4240868846098,40.3846000554076,40.3216769647447,40.4013157821612,40.3452428742768,40.5503748336655,40.3413421540536,40.3667715025775,40.3283709218929,40.5155346471774,40.4038117574594,40.3415419360096,40.3699909305509,40.4244122496606,40.3735988410558,40.4744707395869,40.336163147896,40.3821642503006,40.501204627482,40.3351229765986,40.400047129618,40.3600681331852,40.4648235328361,40.4270873644311,40.4042159164034,40.3795986114191,40.3412286568915,40.3508947639615],\"legendgroup\":\"T\",\"lon\":[-3.72790024912171,-3.56953825594321,-3.59324559721343,-3.58752092904349,-3.83177862063198,-3.69788139765522,-3.69924564323726,-3.73663697171246,-3.62350600154867,-3.64521654904283,-3.76080381070444,-3.71769485524122,-3.44751896078065,-3.68864034744709,-3.75682335666738,-3.68937811076585,-3.71839825221866,-3.61206460968115,-3.78392294643938,-3.67636744147116,-3.58252790979637,-3.56918847026566,-3.75310993717595,-3.63512602371204,-3.70566477670052,-3.70488898865674,-3.63559546398109,-3.75190634426727,-3.7610136676265,-3.75942499130863,-3.68259088054998,-3.69362644417066,-3.72678481009787,-3.67693905940289,-3.77461625619616,-3.67040806723398,-3.61884135012454,-3.74576104044338,-3.56119234949966,-3.70386869928601,-3.79151519987357,-3.69419961603634,-3.72963318048934,-3.59401165769579,-3.74018488291484,-3.70985404230006,-3.70268049977228,-3.76534787557234,-3.60015365421252,-3.75121118478282,-3.61620468224152,-3.7123866721983,-3.79890690078202,-3.734025028929,-3.67591017618596,-3.69148286211901,-3.71229403706057,-3.52717835279042,-3.65257261134101,-3.69585469244456,-3.81641680868562,-3.87471247771921,-3.53453497209821,-3.61145473384219,-3.76797304730462,-3.69897999234847,-3.71372864479935,-3.52549376489887,-3.80720128436728,-3.72224012270444,-3.75265895099191,-3.63914233036257,-3.65051891390286,-3.777825849896,-3.61346348307526,-3.65859208713804,-3.63555952271399,-3.75690271058812,-3.47744735058845,-3.54792383333825,-3.72304554155022,-3.73563105937362,-3.60330559556744,-3.59953268972882,-3.66944258328346,-3.70090412320048,-3.77153699668843,-3.69505136534669,-3.83768345712019,-3.7181978645244,-3.74533695945151,-3.66289547589112,-3.64687944950569,-3.86402119722615,-3.63832022322047,-3.63738494117669,-3.63950990063064,-3.71634448229921,-3.7194506192407,-3.69575069505638,-3.86354217563866,-3.69240645851146,-3.70908148055736,-3.69423268407983,-3.73416885653047,-3.7869740434575,-3.64524200216563,-3.80632299228354,-3.82119573255216,-3.84933861659997,-3.71582415791248,-3.66680448144828,-3.64866836052012,-3.71137712281232,-3.72589123290808,-3.70969871159774,-3.71837055781195,-3.86488940297031,-3.59597530294796,-3.81211073504745,-3.62339941044202,-3.52478901227188,-3.54727580674555,-3.52059752095372,-3.66276510350324,-3.6023940495699,-3.69318029918632,-3.6941764145037,-3.53541452255171,-3.73910292919002,-3.6395772765646,-3.77587362530074,-3.62471747014878,-3.69520245046674,-3.87217960642448,-3.62155915980853,-3.59316035499877,-3.71597212685142,-3.71341309670545,-3.6088588260062,-3.62129648488235,-3.71199027086867,-3.69264894181344],\"marker\":{\"color\":\"#636efa\",\"size\":[296,585,585,581,657,325,134,726,567,346,256,208,889,40,731,33,175,571,240,83,575,902,224,627,26,260,455,306,448,767,172,467,219,188,249,57,502,731,898,353,233,39,705,582,763,709,22,254,555,298,578,217,699,722,150,265,242,930,445,326,689,802,905,621,770,133,126,929,655,716,756,424,426,740,512,593,598,305,886,899,172,224,572,515,152,20,751,79,678,707,262,442,588,808,904,594,348,159,453,145,787,360,160,30,302,694,446,691,653,651,178,794,449,27,158,238,594,795,531,1308,629,916,914,918,153,531,484,336,929,307,450,747,350,148,782,522,517,210,6,526,500,484,481],\"sizemode\":\"area\",\"sizeref\":3.27},\"mode\":\"markers\",\"name\":\"T\",\"showlegend\":true,\"subplot\":\"mapbox\",\"type\":\"scattermapbox\"},{\"hovertemplate\":\"<b>%{hovertext}</b><br><br>GRADOACCESIBILIDAD=N<br>ENCUESTADOMICILIARIA=%{marker.size}<br>latitude=%{lat}<br>longitude=%{lon}<extra></extra>\",\"hovertext\":[\"ACACIAS\",\"ALFONSO XIII\",\"ALONSO MARTINEZ\",\"ALTO DE EXTREMADURA\",\"ALVARADO\",\"ANTON MARTIN\",\"ARG\\u00dcELLES\",\"ARTILLEROS\",\"ARTURO SORIA\",\"ASCAO\",\"AVENIDA DE AMERICA\",\"AVENIDA DE LA PAZ\",\"BANCO DE ESPA\\u00d1A\",\"BARRIO DE LA CONCEPCION\",\"BARRIO DEL PILAR\",\"BEGO\\u00d1A\",\"BILBAO\",\"BUENOS AIRES\",\"CAMPAMENTO\",\"CANILLEJAS\",\"CARABANCHEL\",\"CARPETANA\",\"CARTAGENA\",\"CHUECA\",\"CIUDAD LINEAL\",\"COLON\",\"CONCHA ESPINA\",\"CRUZ DEL RAYO\",\"CUZCO\",\"DIEGO DE LEON\",\"DUQUE DE PASTRANA\",\"EL CARMEN\",\"ESPERANZA\",\"ESTACI\\u00d3N DEL ARTE\",\"ESTRECHO\",\"ESTRELLA\",\"FUENCARRAL\",\"GARCIA NOBLEJAS\",\"GRAN VIA\",\"HERRERA ORIA\",\"IBIZA\",\"LA LATINA\",\"LAGUNA\",\"LAS MUSAS\",\"LISTA\",\"MANUEL BECERRA\",\"MARQUES DE VADILLO\",\"MENDEZ ALVARO\",\"MENENDEZ PELAYO\",\"NOVICIADO\",\"NUEVA NUMANCIA\",\"NU\\u00d1EZ DE BALBOA\",\"O'DONNELL\",\"OPA\\u00d1EL\",\"OPERA\",\"OPORTO\",\"PACIFICO\",\"PARQUE DE LAS AVENIDAS\",\"PAVONES\",\"PIO XII\",\"PLAZA DE CASTILLA\",\"PORTAZGO\",\"PRINCIPE DE VERGARA\",\"PROSPERIDAD\",\"PUEBLO NUEVO\",\"PUENTE DE VALLECAS\",\"PUERTA DE TOLEDO\",\"PUERTA DEL ANGEL\",\"QUEVEDO\",\"QUINTANA\",\"REPUBLICA ARGENTINA\",\"RETIRO\",\"RIOS ROSAS\",\"RUBEN DARIO\",\"SAINZ DE BARANDA\",\"SAN BERNARDO\",\"SAN BLAS\",\"SANTIAGO BERNABEU\",\"SANTO DOMINGO\",\"SERRANO\",\"SEVILLA\",\"SIMANCAS\",\"SUANZES\",\"TETUAN\",\"TIRSO DE MOLINA\",\"TORRE ARIAS\",\"TRIBUNAL\",\"URGEL\",\"USERA\",\"VALDEACEDERAS\",\"VELAZQUEZ\",\"VENTAS\",\"VENTILLA\",\"VICENTE ALEIXANDRE\",\"VINATEROS\",\"VISTA ALEGRE\"],\"lat\":[40.4038716437299,40.448248388161,40.42852602883,40.4099260169851,40.4503319759943,40.41246356569,40.4306609302246,40.4052238336675,40.4558324918715,40.4302055301581,40.4380325773816,40.4535426348993,40.4192197861148,40.4390993999931,40.4768890688056,40.4804129321054,40.428850304442,40.3915628772158,40.3948077574021,40.4494208443657,40.387827019968,40.3927018994635,40.4393374952451,40.4229331780798,40.4380484084201,40.4254191821374,40.4514484326224,40.4442658811033,40.4584214192787,40.4329476824461,40.4676258515088,40.4318932920946,40.4594472971918,40.4088515983755,40.4542880258282,40.4114722192065,40.4950851624077,40.4284231905451,40.4199866177357,40.484662780153,40.4183912105898,40.4112803286869,40.3992296247106,40.4329881279398,40.4291685202558,40.4279044798375,40.3973562903245,40.395375599391,40.4044505222636,40.4248422335784,40.3955381621572,40.4301298212657,40.4228884246446,40.3869044042556,40.4180929194931,40.3884647630932,40.4012617890482,40.4394476023403,40.4005115495727,40.4630027605113,40.4668965341419,40.392664108961,40.4229448617607,40.4441889741445,40.4356585154991,40.3981921510029,40.4070357544619,40.4138988943963,40.4332173151576,40.4335849416495,40.44379456449,40.4203067175233,40.4419753563559,40.4331579372096,40.4150284968071,40.4300127626608,40.4279919067674,40.4515891795258,40.4213154081332,40.425432159419,40.4180507481241,40.4279923730252,40.4408512430777,40.4605518826648,40.4123480941102,40.4437432964146,40.4261853955902,40.3933517684562,40.3870966932697,40.4644241785987,40.4250325508648,40.4308848031949,40.4694353769873,40.4464363993485,40.4102399277996,40.3888470257572],\"legendgroup\":\"N\",\"lon\":[-3.70664108607519,-3.66790615299561,-3.69643188600389,-3.73893618157226,-3.70331420927578,-3.69937296334489,-3.71596265109483,-3.64181233777473,-3.65618121809782,-3.64105571498423,-3.67663955532626,-3.66118199968261,-3.69496510558138,-3.65200400129475,-3.70316450384176,-3.685849695579,-3.70113817556514,-3.6539061229837,-3.76812813678741,-3.60816032312032,-3.74487052104138,-3.74099367671356,-3.67215160132978,-3.69761659244378,-3.6381575883455,-3.69100739257143,-3.67738012287591,-3.67821410967105,-3.6898507512138,-3.67293856677242,-3.6791705524779,-3.65757254725966,-3.64581718003963,-3.69248727105058,-3.70302295994985,-3.66178527076064,-3.69283123100657,-3.63329946572732,-3.70180393013566,-3.70751021303079,-3.67857510552646,-3.70816086851901,-3.74428871805663,-3.60787951427632,-3.67540982227869,-3.66920518071164,-3.71596007651405,-3.67814150708304,-3.68097941707577,-3.70741904261363,-3.66414170148567,-3.67936371945562,-3.66859514629195,-3.72313362116361,-3.70941860871968,-3.73132331241503,-3.67513655621334,-3.66297058086922,-3.63512255629341,-3.67579015001895,-3.68908610432808,-3.65868242534443,-3.68012268104369,-3.67481890299206,-3.64282293725217,-3.66905899947859,-3.71104645076763,-3.72724045181543,-3.70433286125026,-3.64736224209832,-3.68406186705705,-3.68624471917784,-3.70132848117729,-3.68954159857549,-3.66951374370264,-3.70556993325102,-3.61546907625776,-3.69037934673485,-3.70795527665699,-3.68663043638334,-3.69925113804034,-3.62572167294121,-3.62683974417714,-3.69824989397233,-3.70465526879971,-3.61699470593882,-3.70109984950459,-3.72360482429366,-3.70689564278932,-3.69506203750875,-3.6829181480862,-3.66360584172735,-3.69588332976518,-3.71942671196889,-3.65273420710476,-3.73982455000658],\"marker\":{\"color\":\"#EF553B\",\"size\":[28,99,418,265,118,20,273,385,401,420,412,401,10,408,198,195,277,345,251,547,288,287,103,4,415,140,97,97,92,211,88,410,458,23,111,379,162,423,28,185,48,19,264,566,72,152,276,44,60,7,351,138,78,285,36,566,127,69,394,90,279,358,150,97,828,351,22,268,138,413,96,47,129,135,112,276,564,96,12,70,15,561,550,112,19,545,7,284,316,112,74,146,106,221,380,289],\"sizemode\":\"area\",\"sizeref\":3.27},\"mode\":\"markers\",\"name\":\"N\",\"showlegend\":true,\"subplot\":\"mapbox\",\"type\":\"scattermapbox\"},{\"hovertemplate\":\"<b>%{hovertext}</b><br><br>GRADOACCESIBILIDAD=P<br>ENCUESTADOMICILIARIA=%{marker.size}<br>latitude=%{lat}<br>longitude=%{lon}<extra></extra>\",\"hovertext\":[\"PRINCIPE PIO\",\"SOL\"],\"lat\":[40.4210688443836,40.416876060894],\"legendgroup\":\"P\",\"lon\":[-3.72032355914226,-3.70326164857528],\"marker\":{\"color\":\"#00cc96\",\"size\":[690,42],\"sizemode\":\"area\",\"sizeref\":3.27},\"mode\":\"markers\",\"name\":\"P\",\"showlegend\":true,\"subplot\":\"mapbox\",\"type\":\"scattermapbox\"}],                        {\"template\":{\"data\":{\"histogram2dcontour\":[{\"type\":\"histogram2dcontour\",\"colorbar\":{\"outlinewidth\":0,\"ticks\":\"\"},\"colorscale\":[[0.0,\"#0d0887\"],[0.1111111111111111,\"#46039f\"],[0.2222222222222222,\"#7201a8\"],[0.3333333333333333,\"#9c179e\"],[0.4444444444444444,\"#bd3786\"],[0.5555555555555556,\"#d8576b\"],[0.6666666666666666,\"#ed7953\"],[0.7777777777777778,\"#fb9f3a\"],[0.8888888888888888,\"#fdca26\"],[1.0,\"#f0f921\"]]}],\"choropleth\":[{\"type\":\"choropleth\",\"colorbar\":{\"outlinewidth\":0,\"ticks\":\"\"}}],\"histogram2d\":[{\"type\":\"histogram2d\",\"colorbar\":{\"outlinewidth\":0,\"ticks\":\"\"},\"colorscale\":[[0.0,\"#0d0887\"],[0.1111111111111111,\"#46039f\"],[0.2222222222222222,\"#7201a8\"],[0.3333333333333333,\"#9c179e\"],[0.4444444444444444,\"#bd3786\"],[0.5555555555555556,\"#d8576b\"],[0.6666666666666666,\"#ed7953\"],[0.7777777777777778,\"#fb9f3a\"],[0.8888888888888888,\"#fdca26\"],[1.0,\"#f0f921\"]]}],\"heatmap\":[{\"type\":\"heatmap\",\"colorbar\":{\"outlinewidth\":0,\"ticks\":\"\"},\"colorscale\":[[0.0,\"#0d0887\"],[0.1111111111111111,\"#46039f\"],[0.2222222222222222,\"#7201a8\"],[0.3333333333333333,\"#9c179e\"],[0.4444444444444444,\"#bd3786\"],[0.5555555555555556,\"#d8576b\"],[0.6666666666666666,\"#ed7953\"],[0.7777777777777778,\"#fb9f3a\"],[0.8888888888888888,\"#fdca26\"],[1.0,\"#f0f921\"]]}],\"heatmapgl\":[{\"type\":\"heatmapgl\",\"colorbar\":{\"outlinewidth\":0,\"ticks\":\"\"},\"colorscale\":[[0.0,\"#0d0887\"],[0.1111111111111111,\"#46039f\"],[0.2222222222222222,\"#7201a8\"],[0.3333333333333333,\"#9c179e\"],[0.4444444444444444,\"#bd3786\"],[0.5555555555555556,\"#d8576b\"],[0.6666666666666666,\"#ed7953\"],[0.7777777777777778,\"#fb9f3a\"],[0.8888888888888888,\"#fdca26\"],[1.0,\"#f0f921\"]]}],\"contourcarpet\":[{\"type\":\"contourcarpet\",\"colorbar\":{\"outlinewidth\":0,\"ticks\":\"\"}}],\"contour\":[{\"type\":\"contour\",\"colorbar\":{\"outlinewidth\":0,\"ticks\":\"\"},\"colorscale\":[[0.0,\"#0d0887\"],[0.1111111111111111,\"#46039f\"],[0.2222222222222222,\"#7201a8\"],[0.3333333333333333,\"#9c179e\"],[0.4444444444444444,\"#bd3786\"],[0.5555555555555556,\"#d8576b\"],[0.6666666666666666,\"#ed7953\"],[0.7777777777777778,\"#fb9f3a\"],[0.8888888888888888,\"#fdca26\"],[1.0,\"#f0f921\"]]}],\"surface\":[{\"type\":\"surface\",\"colorbar\":{\"outlinewidth\":0,\"ticks\":\"\"},\"colorscale\":[[0.0,\"#0d0887\"],[0.1111111111111111,\"#46039f\"],[0.2222222222222222,\"#7201a8\"],[0.3333333333333333,\"#9c179e\"],[0.4444444444444444,\"#bd3786\"],[0.5555555555555556,\"#d8576b\"],[0.6666666666666666,\"#ed7953\"],[0.7777777777777778,\"#fb9f3a\"],[0.8888888888888888,\"#fdca26\"],[1.0,\"#f0f921\"]]}],\"mesh3d\":[{\"type\":\"mesh3d\",\"colorbar\":{\"outlinewidth\":0,\"ticks\":\"\"}}],\"scatter\":[{\"fillpattern\":{\"fillmode\":\"overlay\",\"size\":10,\"solidity\":0.2},\"type\":\"scatter\"}],\"parcoords\":[{\"type\":\"parcoords\",\"line\":{\"colorbar\":{\"outlinewidth\":0,\"ticks\":\"\"}}}],\"scatterpolargl\":[{\"type\":\"scatterpolargl\",\"marker\":{\"colorbar\":{\"outlinewidth\":0,\"ticks\":\"\"}}}],\"bar\":[{\"error_x\":{\"color\":\"#2a3f5f\"},\"error_y\":{\"color\":\"#2a3f5f\"},\"marker\":{\"line\":{\"color\":\"#E5ECF6\",\"width\":0.5},\"pattern\":{\"fillmode\":\"overlay\",\"size\":10,\"solidity\":0.2}},\"type\":\"bar\"}],\"scattergeo\":[{\"type\":\"scattergeo\",\"marker\":{\"colorbar\":{\"outlinewidth\":0,\"ticks\":\"\"}}}],\"scatterpolar\":[{\"type\":\"scatterpolar\",\"marker\":{\"colorbar\":{\"outlinewidth\":0,\"ticks\":\"\"}}}],\"histogram\":[{\"marker\":{\"pattern\":{\"fillmode\":\"overlay\",\"size\":10,\"solidity\":0.2}},\"type\":\"histogram\"}],\"scattergl\":[{\"type\":\"scattergl\",\"marker\":{\"colorbar\":{\"outlinewidth\":0,\"ticks\":\"\"}}}],\"scatter3d\":[{\"type\":\"scatter3d\",\"line\":{\"colorbar\":{\"outlinewidth\":0,\"ticks\":\"\"}},\"marker\":{\"colorbar\":{\"outlinewidth\":0,\"ticks\":\"\"}}}],\"scattermapbox\":[{\"type\":\"scattermapbox\",\"marker\":{\"colorbar\":{\"outlinewidth\":0,\"ticks\":\"\"}}}],\"scatterternary\":[{\"type\":\"scatterternary\",\"marker\":{\"colorbar\":{\"outlinewidth\":0,\"ticks\":\"\"}}}],\"scattercarpet\":[{\"type\":\"scattercarpet\",\"marker\":{\"colorbar\":{\"outlinewidth\":0,\"ticks\":\"\"}}}],\"carpet\":[{\"aaxis\":{\"endlinecolor\":\"#2a3f5f\",\"gridcolor\":\"white\",\"linecolor\":\"white\",\"minorgridcolor\":\"white\",\"startlinecolor\":\"#2a3f5f\"},\"baxis\":{\"endlinecolor\":\"#2a3f5f\",\"gridcolor\":\"white\",\"linecolor\":\"white\",\"minorgridcolor\":\"white\",\"startlinecolor\":\"#2a3f5f\"},\"type\":\"carpet\"}],\"table\":[{\"cells\":{\"fill\":{\"color\":\"#EBF0F8\"},\"line\":{\"color\":\"white\"}},\"header\":{\"fill\":{\"color\":\"#C8D4E3\"},\"line\":{\"color\":\"white\"}},\"type\":\"table\"}],\"barpolar\":[{\"marker\":{\"line\":{\"color\":\"#E5ECF6\",\"width\":0.5},\"pattern\":{\"fillmode\":\"overlay\",\"size\":10,\"solidity\":0.2}},\"type\":\"barpolar\"}],\"pie\":[{\"automargin\":true,\"type\":\"pie\"}]},\"layout\":{\"autotypenumbers\":\"strict\",\"colorway\":[\"#636efa\",\"#EF553B\",\"#00cc96\",\"#ab63fa\",\"#FFA15A\",\"#19d3f3\",\"#FF6692\",\"#B6E880\",\"#FF97FF\",\"#FECB52\"],\"font\":{\"color\":\"#2a3f5f\"},\"hovermode\":\"closest\",\"hoverlabel\":{\"align\":\"left\"},\"paper_bgcolor\":\"white\",\"plot_bgcolor\":\"#E5ECF6\",\"polar\":{\"bgcolor\":\"#E5ECF6\",\"angularaxis\":{\"gridcolor\":\"white\",\"linecolor\":\"white\",\"ticks\":\"\"},\"radialaxis\":{\"gridcolor\":\"white\",\"linecolor\":\"white\",\"ticks\":\"\"}},\"ternary\":{\"bgcolor\":\"#E5ECF6\",\"aaxis\":{\"gridcolor\":\"white\",\"linecolor\":\"white\",\"ticks\":\"\"},\"baxis\":{\"gridcolor\":\"white\",\"linecolor\":\"white\",\"ticks\":\"\"},\"caxis\":{\"gridcolor\":\"white\",\"linecolor\":\"white\",\"ticks\":\"\"}},\"coloraxis\":{\"colorbar\":{\"outlinewidth\":0,\"ticks\":\"\"}},\"colorscale\":{\"sequential\":[[0.0,\"#0d0887\"],[0.1111111111111111,\"#46039f\"],[0.2222222222222222,\"#7201a8\"],[0.3333333333333333,\"#9c179e\"],[0.4444444444444444,\"#bd3786\"],[0.5555555555555556,\"#d8576b\"],[0.6666666666666666,\"#ed7953\"],[0.7777777777777778,\"#fb9f3a\"],[0.8888888888888888,\"#fdca26\"],[1.0,\"#f0f921\"]],\"sequentialminus\":[[0.0,\"#0d0887\"],[0.1111111111111111,\"#46039f\"],[0.2222222222222222,\"#7201a8\"],[0.3333333333333333,\"#9c179e\"],[0.4444444444444444,\"#bd3786\"],[0.5555555555555556,\"#d8576b\"],[0.6666666666666666,\"#ed7953\"],[0.7777777777777778,\"#fb9f3a\"],[0.8888888888888888,\"#fdca26\"],[1.0,\"#f0f921\"]],\"diverging\":[[0,\"#8e0152\"],[0.1,\"#c51b7d\"],[0.2,\"#de77ae\"],[0.3,\"#f1b6da\"],[0.4,\"#fde0ef\"],[0.5,\"#f7f7f7\"],[0.6,\"#e6f5d0\"],[0.7,\"#b8e186\"],[0.8,\"#7fbc41\"],[0.9,\"#4d9221\"],[1,\"#276419\"]]},\"xaxis\":{\"gridcolor\":\"white\",\"linecolor\":\"white\",\"ticks\":\"\",\"title\":{\"standoff\":15},\"zerolinecolor\":\"white\",\"automargin\":true,\"zerolinewidth\":2},\"yaxis\":{\"gridcolor\":\"white\",\"linecolor\":\"white\",\"ticks\":\"\",\"title\":{\"standoff\":15},\"zerolinecolor\":\"white\",\"automargin\":true,\"zerolinewidth\":2},\"scene\":{\"xaxis\":{\"backgroundcolor\":\"#E5ECF6\",\"gridcolor\":\"white\",\"linecolor\":\"white\",\"showbackground\":true,\"ticks\":\"\",\"zerolinecolor\":\"white\",\"gridwidth\":2},\"yaxis\":{\"backgroundcolor\":\"#E5ECF6\",\"gridcolor\":\"white\",\"linecolor\":\"white\",\"showbackground\":true,\"ticks\":\"\",\"zerolinecolor\":\"white\",\"gridwidth\":2},\"zaxis\":{\"backgroundcolor\":\"#E5ECF6\",\"gridcolor\":\"white\",\"linecolor\":\"white\",\"showbackground\":true,\"ticks\":\"\",\"zerolinecolor\":\"white\",\"gridwidth\":2}},\"shapedefaults\":{\"line\":{\"color\":\"#2a3f5f\"}},\"annotationdefaults\":{\"arrowcolor\":\"#2a3f5f\",\"arrowhead\":0,\"arrowwidth\":1},\"geo\":{\"bgcolor\":\"white\",\"landcolor\":\"#E5ECF6\",\"subunitcolor\":\"white\",\"showland\":true,\"showlakes\":true,\"lakecolor\":\"white\"},\"title\":{\"x\":0.05},\"mapbox\":{\"style\":\"light\"}}},\"mapbox\":{\"domain\":{\"x\":[0.0,1.0],\"y\":[0.0,1.0]},\"center\":{\"lat\":40.41464064594003,\"lon\":-3.687291669282285},\"zoom\":10,\"style\":\"carto-positron\"},\"legend\":{\"title\":{\"text\":\"GRADOACCESIBILIDAD\"},\"tracegroupgap\":0,\"itemsizing\":\"constant\"},\"margin\":{\"t\":0,\"r\":0,\"l\":0,\"b\":0}},                        {\"responsive\": true}                    ).then(function(){\n",
       "                            \n",
       "var gd = document.getElementById('d570babf-5e74-4bca-97c7-64ebac877ce3');\n",
       "var x = new MutationObserver(function (mutations, observer) {{\n",
       "        var display = window.getComputedStyle(gd).display;\n",
       "        if (!display || display === 'none') {{\n",
       "            console.log([gd, 'removed!']);\n",
       "            Plotly.purge(gd);\n",
       "            observer.disconnect();\n",
       "        }}\n",
       "}});\n",
       "\n",
       "// Listen for the removal of the full notebook cells\n",
       "var notebookContainer = gd.closest('#notebook-container');\n",
       "if (notebookContainer) {{\n",
       "    x.observe(notebookContainer, {childList: true});\n",
       "}}\n",
       "\n",
       "// Listen for the clearing of the current output cell\n",
       "var outputEl = gd.closest('.output');\n",
       "if (outputEl) {{\n",
       "    x.observe(outputEl, {childList: true});\n",
       "}}\n",
       "\n",
       "                        })                };                });            </script>        </div>"
      ]
     },
     "metadata": {},
     "output_type": "display_data"
    }
   ],
   "source": [
    "fig2 = px.scatter_mapbox(\n",
    "    estaciones,\n",
    "    lat='latitude',\n",
    "    lon='longitude',\n",
    "    #estilos del mapa\n",
    "    mapbox_style='carto-positron',\n",
    "    zoom=10,\n",
    "    \n",
    "    hover_name='DENOMINACION', # necesita resetar el indice\n",
    "    #color por categoria de GRADOACCESIBILIDAD\n",
    "    color='GRADOACCESIBILIDAD',\n",
    "    size='ENCUESTADOMICILIARIA',\n",
    "    size_max=20 # limitamos el tamaño del putno\n",
    "    \n",
    "\n",
    "\n",
    ")\n",
    "\n",
    "\n",
    "\n",
    "fig2.update_layout(margin={'r':0, 't':0,'l':0, 'b':0})\n",
    "fig2.show()"
   ]
  },
  {
   "cell_type": "code",
   "execution_count": null,
   "id": "9076af4b",
   "metadata": {},
   "outputs": [],
   "source": []
  },
  {
   "cell_type": "code",
   "execution_count": null,
   "id": "3faba2e1",
   "metadata": {},
   "outputs": [],
   "source": []
  },
  {
   "cell_type": "code",
   "execution_count": null,
   "id": "3aa87eb2",
   "metadata": {},
   "outputs": [],
   "source": []
  }
 ],
 "metadata": {
  "kernelspec": {
   "display_name": "Python 3 (ipykernel)",
   "language": "python",
   "name": "python3"
  },
  "language_info": {
   "codemirror_mode": {
    "name": "ipython",
    "version": 3
   },
   "file_extension": ".py",
   "mimetype": "text/x-python",
   "name": "python",
   "nbconvert_exporter": "python",
   "pygments_lexer": "ipython3",
   "version": "3.11.4"
  }
 },
 "nbformat": 4,
 "nbformat_minor": 5
}
